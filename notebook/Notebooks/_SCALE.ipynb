{
 "cells": [
  {
   "cell_type": "code",
   "execution_count": 3,
   "id": "81a82419-91dd-409e-bc92-2f2fdabdcbe3",
   "metadata": {},
   "outputs": [],
   "source": [
    "import pandas as pd\n",
    "import numpy as np\n",
    "import matplotlib.pyplot as plt\n"
   ]
  },
  {
   "cell_type": "code",
   "execution_count": 6,
   "id": "03ad78e4-1e13-447f-86f6-d75655fe5ccc",
   "metadata": {},
   "outputs": [
    {
     "data": {
      "text/plain": [
       "array([ 8,  8, 28, 29, 43, 10, 34, 23, 32, 33,  7, 43, 36, 18, 22, 28, 13,\n",
       "       43, 29, 16, 36, 44,  8, 17, 44, 25, 18, 25, 20, 21, 49, 49, 10, 23,\n",
       "        5, 14, 48, 25, 22, 47, 30, 43, 11, 12, 11, 25,  6, 41, 12,  9, 49,\n",
       "       18, 15, 33, 15, 29, 19, 28, 49, 33, 37, 24,  6, 49, 12, 41, 14, 12,\n",
       "       39, 38, 21,  8, 34, 28,  5, 40, 31, 14, 48, 29, 19, 18, 16, 39,  7,\n",
       "       10, 41,  8,  8, 31, 21, 20, 41, 35, 47, 36, 12, 30, 49, 31, 23, 25,\n",
       "       16, 31, 15,  9,  9, 37, 17, 41, 34, 28, 30, 11, 32, 24, 28, 40, 38,\n",
       "       23, 15, 44,  6, 32, 41, 44, 35, 35, 40, 35, 29, 34, 33, 26,  6, 19,\n",
       "       14, 46, 19, 15,  7, 18, 37, 41, 44, 12, 44, 36, 49, 41, 26, 19, 27,\n",
       "       48, 43, 40,  8, 47, 14, 21, 31, 32, 31, 29, 10, 20, 17,  9, 12, 34,\n",
       "       45, 35,  7, 11, 45, 31, 48, 29, 21, 49, 17, 39, 10, 47, 11, 34, 39,\n",
       "       16,  8, 43, 49, 11, 19, 15, 39, 19, 19, 30, 14, 11])"
      ]
     },
     "execution_count": 6,
     "metadata": {},
     "output_type": "execute_result"
    }
   ],
   "source": [
    "# Setting a random seed for reproducibility np.random.seed(42)\n",
    "# Number of pieces \n",
    "num_pieces = 200\n",
    "# Generating semi-random lead times (in days)\n",
    "# Lead time observed\n",
    "lead_time_observed = np.random.randint(5, 50, size=num_pieces)\n",
    "lead_time_observed"
   ]
  },
  {
   "cell_type": "code",
   "execution_count": 7,
   "id": "f2673f9a-9dea-4cbf-8237-19a204d280a7",
   "metadata": {},
   "outputs": [
    {
     "data": {
      "text/plain": [
       "array([-1,  3, 42, 38, 51,  4, 34, 15, 37, 33,  7, 54, 42, 27, 22, 35,  4,\n",
       "       37, 29, 11, 38, 48,  1, 29, 42, 18,  8, 38, 19, 28, 47, 53, 20, 31,\n",
       "       -4,  4, 40, 19, 24, 58, 44, 54, 19, 19, 19, 18,  1, 44, 19, -1, 50,\n",
       "       21, 27, 43, 24, 21, 33, 34, 47, 36, 34, 25, 14, 57, 17, 50,  6, 11,\n",
       "       38, 31, 20, 12, 30, 24, -3, 40, 26, 11, 61, 35, 12, 26, 28, 52, 11,\n",
       "        5, 43, 19, 17, 39, 28, 20, 47, 25, 58, 44, 20, 26, 60, 24, 34, 20,\n",
       "       21, 37, 23,  1, 15, 34, 14, 37, 33, 18, 41, 15, 29, 25, 35, 51, 48,\n",
       "       29, 27, 43,  8, 40, 31, 57, 29, 31, 36, 29, 31, 36, 27, 37, 13, 19,\n",
       "        9, 49, 22,  8, 15, 31, 34, 50, 40,  5, 49, 47, 41, 38, 34, 10, 21,\n",
       "       58, 40, 54,  4, 46,  6, 22, 27, 42, 24, 40,  7, 28, 20, 21, 18, 42,\n",
       "       41, 49,  8, 11, 47, 29, 39, 25, 18, 57, 19, 45,  5, 41, 20, 40, 40,\n",
       "       11,  2, 51, 47, 25, 22, 21, 53,  9, 31, 31, 28,  7])"
      ]
     },
     "execution_count": 7,
     "metadata": {},
     "output_type": "execute_result"
    }
   ],
   "source": [
    "# Lead time theoretical\n",
    "lead_time_theoretical = lead_time_observed + np.random.randint(-10, 15, size=num_pieces)\n",
    "lead_time_theoretical "
   ]
  },
  {
   "cell_type": "code",
   "execution_count": 8,
   "id": "cd94b35c-ae5c-4bc2-a055-5f5653e9e558",
   "metadata": {},
   "outputs": [
    {
     "data": {
      "text/plain": [
       "{'Piece': range(1, 201),\n",
       " 'LeadTimeObserved': array([ 8,  8, 28, 29, 43, 10, 34, 23, 32, 33,  7, 43, 36, 18, 22, 28, 13,\n",
       "        43, 29, 16, 36, 44,  8, 17, 44, 25, 18, 25, 20, 21, 49, 49, 10, 23,\n",
       "         5, 14, 48, 25, 22, 47, 30, 43, 11, 12, 11, 25,  6, 41, 12,  9, 49,\n",
       "        18, 15, 33, 15, 29, 19, 28, 49, 33, 37, 24,  6, 49, 12, 41, 14, 12,\n",
       "        39, 38, 21,  8, 34, 28,  5, 40, 31, 14, 48, 29, 19, 18, 16, 39,  7,\n",
       "        10, 41,  8,  8, 31, 21, 20, 41, 35, 47, 36, 12, 30, 49, 31, 23, 25,\n",
       "        16, 31, 15,  9,  9, 37, 17, 41, 34, 28, 30, 11, 32, 24, 28, 40, 38,\n",
       "        23, 15, 44,  6, 32, 41, 44, 35, 35, 40, 35, 29, 34, 33, 26,  6, 19,\n",
       "        14, 46, 19, 15,  7, 18, 37, 41, 44, 12, 44, 36, 49, 41, 26, 19, 27,\n",
       "        48, 43, 40,  8, 47, 14, 21, 31, 32, 31, 29, 10, 20, 17,  9, 12, 34,\n",
       "        45, 35,  7, 11, 45, 31, 48, 29, 21, 49, 17, 39, 10, 47, 11, 34, 39,\n",
       "        16,  8, 43, 49, 11, 19, 15, 39, 19, 19, 30, 14, 11]),\n",
       " 'LeadTimeTheoretical': array([-1,  3, 42, 38, 51,  4, 34, 15, 37, 33,  7, 54, 42, 27, 22, 35,  4,\n",
       "        37, 29, 11, 38, 48,  1, 29, 42, 18,  8, 38, 19, 28, 47, 53, 20, 31,\n",
       "        -4,  4, 40, 19, 24, 58, 44, 54, 19, 19, 19, 18,  1, 44, 19, -1, 50,\n",
       "        21, 27, 43, 24, 21, 33, 34, 47, 36, 34, 25, 14, 57, 17, 50,  6, 11,\n",
       "        38, 31, 20, 12, 30, 24, -3, 40, 26, 11, 61, 35, 12, 26, 28, 52, 11,\n",
       "         5, 43, 19, 17, 39, 28, 20, 47, 25, 58, 44, 20, 26, 60, 24, 34, 20,\n",
       "        21, 37, 23,  1, 15, 34, 14, 37, 33, 18, 41, 15, 29, 25, 35, 51, 48,\n",
       "        29, 27, 43,  8, 40, 31, 57, 29, 31, 36, 29, 31, 36, 27, 37, 13, 19,\n",
       "         9, 49, 22,  8, 15, 31, 34, 50, 40,  5, 49, 47, 41, 38, 34, 10, 21,\n",
       "        58, 40, 54,  4, 46,  6, 22, 27, 42, 24, 40,  7, 28, 20, 21, 18, 42,\n",
       "        41, 49,  8, 11, 47, 29, 39, 25, 18, 57, 19, 45,  5, 41, 20, 40, 40,\n",
       "        11,  2, 51, 47, 25, 22, 21, 53,  9, 31, 31, 28,  7])}"
      ]
     },
     "execution_count": 8,
     "metadata": {},
     "output_type": "execute_result"
    }
   ],
   "source": [
    "# Creating a DataFrame \n",
    "data={\n",
    "'Piece': range(1, num_pieces + 1), 'LeadTimeObserved': lead_time_observed, 'LeadTimeTheoretical': lead_time_theoretical\n",
    "}\n",
    "data"
   ]
  },
  {
   "cell_type": "code",
   "execution_count": 9,
   "id": "a8ee1d2e-dc95-42c2-8c8d-ccd47ec44a2c",
   "metadata": {},
   "outputs": [
    {
     "data": {
      "text/html": [
       "<div>\n",
       "<style scoped>\n",
       "    .dataframe tbody tr th:only-of-type {\n",
       "        vertical-align: middle;\n",
       "    }\n",
       "\n",
       "    .dataframe tbody tr th {\n",
       "        vertical-align: top;\n",
       "    }\n",
       "\n",
       "    .dataframe thead th {\n",
       "        text-align: right;\n",
       "    }\n",
       "</style>\n",
       "<table border=\"1\" class=\"dataframe\">\n",
       "  <thead>\n",
       "    <tr style=\"text-align: right;\">\n",
       "      <th></th>\n",
       "      <th>Piece</th>\n",
       "      <th>LeadTimeObserved</th>\n",
       "      <th>LeadTimeTheoretical</th>\n",
       "    </tr>\n",
       "  </thead>\n",
       "  <tbody>\n",
       "    <tr>\n",
       "      <th>0</th>\n",
       "      <td>1</td>\n",
       "      <td>8</td>\n",
       "      <td>-1</td>\n",
       "    </tr>\n",
       "    <tr>\n",
       "      <th>1</th>\n",
       "      <td>2</td>\n",
       "      <td>8</td>\n",
       "      <td>3</td>\n",
       "    </tr>\n",
       "    <tr>\n",
       "      <th>2</th>\n",
       "      <td>3</td>\n",
       "      <td>28</td>\n",
       "      <td>42</td>\n",
       "    </tr>\n",
       "    <tr>\n",
       "      <th>3</th>\n",
       "      <td>4</td>\n",
       "      <td>29</td>\n",
       "      <td>38</td>\n",
       "    </tr>\n",
       "    <tr>\n",
       "      <th>4</th>\n",
       "      <td>5</td>\n",
       "      <td>43</td>\n",
       "      <td>51</td>\n",
       "    </tr>\n",
       "    <tr>\n",
       "      <th>...</th>\n",
       "      <td>...</td>\n",
       "      <td>...</td>\n",
       "      <td>...</td>\n",
       "    </tr>\n",
       "    <tr>\n",
       "      <th>195</th>\n",
       "      <td>196</td>\n",
       "      <td>19</td>\n",
       "      <td>9</td>\n",
       "    </tr>\n",
       "    <tr>\n",
       "      <th>196</th>\n",
       "      <td>197</td>\n",
       "      <td>19</td>\n",
       "      <td>31</td>\n",
       "    </tr>\n",
       "    <tr>\n",
       "      <th>197</th>\n",
       "      <td>198</td>\n",
       "      <td>30</td>\n",
       "      <td>31</td>\n",
       "    </tr>\n",
       "    <tr>\n",
       "      <th>198</th>\n",
       "      <td>199</td>\n",
       "      <td>14</td>\n",
       "      <td>28</td>\n",
       "    </tr>\n",
       "    <tr>\n",
       "      <th>199</th>\n",
       "      <td>200</td>\n",
       "      <td>11</td>\n",
       "      <td>7</td>\n",
       "    </tr>\n",
       "  </tbody>\n",
       "</table>\n",
       "<p>200 rows × 3 columns</p>\n",
       "</div>"
      ],
      "text/plain": [
       "     Piece  LeadTimeObserved  LeadTimeTheoretical\n",
       "0        1                 8                   -1\n",
       "1        2                 8                    3\n",
       "2        3                28                   42\n",
       "3        4                29                   38\n",
       "4        5                43                   51\n",
       "..     ...               ...                  ...\n",
       "195    196                19                    9\n",
       "196    197                19                   31\n",
       "197    198                30                   31\n",
       "198    199                14                   28\n",
       "199    200                11                    7\n",
       "\n",
       "[200 rows x 3 columns]"
      ]
     },
     "execution_count": 9,
     "metadata": {},
     "output_type": "execute_result"
    }
   ],
   "source": [
    "df = pd.DataFrame(data)\n",
    "df"
   ]
  },
  {
   "cell_type": "code",
   "execution_count": 10,
   "id": "202db5b6-712b-4318-95b5-9ea31e7162dd",
   "metadata": {},
   "outputs": [
    {
     "data": {
      "text/html": [
       "<div>\n",
       "<style scoped>\n",
       "    .dataframe tbody tr th:only-of-type {\n",
       "        vertical-align: middle;\n",
       "    }\n",
       "\n",
       "    .dataframe tbody tr th {\n",
       "        vertical-align: top;\n",
       "    }\n",
       "\n",
       "    .dataframe thead th {\n",
       "        text-align: right;\n",
       "    }\n",
       "</style>\n",
       "<table border=\"1\" class=\"dataframe\">\n",
       "  <thead>\n",
       "    <tr style=\"text-align: right;\">\n",
       "      <th></th>\n",
       "      <th>Piece</th>\n",
       "      <th>LeadTimeObserved</th>\n",
       "      <th>LeadTimeTheoretical</th>\n",
       "      <th>DeviationPercent</th>\n",
       "    </tr>\n",
       "  </thead>\n",
       "  <tbody>\n",
       "    <tr>\n",
       "      <th>0</th>\n",
       "      <td>1</td>\n",
       "      <td>8</td>\n",
       "      <td>-1</td>\n",
       "      <td>-112.500000</td>\n",
       "    </tr>\n",
       "    <tr>\n",
       "      <th>1</th>\n",
       "      <td>2</td>\n",
       "      <td>8</td>\n",
       "      <td>3</td>\n",
       "      <td>-62.500000</td>\n",
       "    </tr>\n",
       "    <tr>\n",
       "      <th>2</th>\n",
       "      <td>3</td>\n",
       "      <td>28</td>\n",
       "      <td>42</td>\n",
       "      <td>50.000000</td>\n",
       "    </tr>\n",
       "    <tr>\n",
       "      <th>3</th>\n",
       "      <td>4</td>\n",
       "      <td>29</td>\n",
       "      <td>38</td>\n",
       "      <td>31.034483</td>\n",
       "    </tr>\n",
       "    <tr>\n",
       "      <th>4</th>\n",
       "      <td>5</td>\n",
       "      <td>43</td>\n",
       "      <td>51</td>\n",
       "      <td>18.604651</td>\n",
       "    </tr>\n",
       "    <tr>\n",
       "      <th>...</th>\n",
       "      <td>...</td>\n",
       "      <td>...</td>\n",
       "      <td>...</td>\n",
       "      <td>...</td>\n",
       "    </tr>\n",
       "    <tr>\n",
       "      <th>195</th>\n",
       "      <td>196</td>\n",
       "      <td>19</td>\n",
       "      <td>9</td>\n",
       "      <td>-52.631579</td>\n",
       "    </tr>\n",
       "    <tr>\n",
       "      <th>196</th>\n",
       "      <td>197</td>\n",
       "      <td>19</td>\n",
       "      <td>31</td>\n",
       "      <td>63.157895</td>\n",
       "    </tr>\n",
       "    <tr>\n",
       "      <th>197</th>\n",
       "      <td>198</td>\n",
       "      <td>30</td>\n",
       "      <td>31</td>\n",
       "      <td>3.333333</td>\n",
       "    </tr>\n",
       "    <tr>\n",
       "      <th>198</th>\n",
       "      <td>199</td>\n",
       "      <td>14</td>\n",
       "      <td>28</td>\n",
       "      <td>100.000000</td>\n",
       "    </tr>\n",
       "    <tr>\n",
       "      <th>199</th>\n",
       "      <td>200</td>\n",
       "      <td>11</td>\n",
       "      <td>7</td>\n",
       "      <td>-36.363636</td>\n",
       "    </tr>\n",
       "  </tbody>\n",
       "</table>\n",
       "<p>200 rows × 4 columns</p>\n",
       "</div>"
      ],
      "text/plain": [
       "     Piece  LeadTimeObserved  LeadTimeTheoretical  DeviationPercent\n",
       "0        1                 8                   -1       -112.500000\n",
       "1        2                 8                    3        -62.500000\n",
       "2        3                28                   42         50.000000\n",
       "3        4                29                   38         31.034483\n",
       "4        5                43                   51         18.604651\n",
       "..     ...               ...                  ...               ...\n",
       "195    196                19                    9        -52.631579\n",
       "196    197                19                   31         63.157895\n",
       "197    198                30                   31          3.333333\n",
       "198    199                14                   28        100.000000\n",
       "199    200                11                    7        -36.363636\n",
       "\n",
       "[200 rows x 4 columns]"
      ]
     },
     "execution_count": 10,
     "metadata": {},
     "output_type": "execute_result"
    }
   ],
   "source": [
    "# Calculate percentage deviation\n",
    "df['DeviationPercent'] = ((df['LeadTimeTheoretical'] - df['LeadTimeObserved']) / df['LeadTimeObserved']) * 100\n",
    "df"
   ]
  },
  {
   "cell_type": "code",
   "execution_count": 12,
   "id": "4ac98272-0f09-4690-bb20-1301f5d73613",
   "metadata": {},
   "outputs": [
    {
     "data": {
      "text/plain": [
       "[-inf, -30, -20, -10, 0, 10, 20, 30, inf]"
      ]
     },
     "execution_count": 12,
     "metadata": {},
     "output_type": "execute_result"
    }
   ],
   "source": [
    "# Define deviation bins\n",
    "bins = [-np.inf, -30, -20, -10, 0, 10, 20, 30, np.inf]\n",
    "bins"
   ]
  },
  {
   "cell_type": "code",
   "execution_count": 13,
   "id": "1120d41b-6cd2-490e-91ed-a58b54c0b929",
   "metadata": {},
   "outputs": [
    {
     "data": {
      "text/plain": [
       "['<-30%',\n",
       " '-30% to -20%',\n",
       " '-20% to -10%',\n",
       " '-10% to 0%',\n",
       " '0% to 10%',\n",
       " '10% to 20%',\n",
       " '20% to 30%',\n",
       " '>30%']"
      ]
     },
     "execution_count": 13,
     "metadata": {},
     "output_type": "execute_result"
    }
   ],
   "source": [
    "labels = ['<-30%', '-30% to -20%', '-20% to -10%', '-10% to 0%', '0% to 10%', '10% to 20%', '20% to 30%', '>30%']\n",
    "labels"
   ]
  },
  {
   "cell_type": "code",
   "execution_count": 14,
   "id": "4d58401b-9eeb-4b71-ace2-e9bfd1ff1b71",
   "metadata": {},
   "outputs": [
    {
     "data": {
      "text/html": [
       "<div>\n",
       "<style scoped>\n",
       "    .dataframe tbody tr th:only-of-type {\n",
       "        vertical-align: middle;\n",
       "    }\n",
       "\n",
       "    .dataframe tbody tr th {\n",
       "        vertical-align: top;\n",
       "    }\n",
       "\n",
       "    .dataframe thead th {\n",
       "        text-align: right;\n",
       "    }\n",
       "</style>\n",
       "<table border=\"1\" class=\"dataframe\">\n",
       "  <thead>\n",
       "    <tr style=\"text-align: right;\">\n",
       "      <th></th>\n",
       "      <th>Piece</th>\n",
       "      <th>LeadTimeObserved</th>\n",
       "      <th>LeadTimeTheoretical</th>\n",
       "      <th>DeviationPercent</th>\n",
       "      <th>DeviationCategory</th>\n",
       "    </tr>\n",
       "  </thead>\n",
       "  <tbody>\n",
       "    <tr>\n",
       "      <th>0</th>\n",
       "      <td>1</td>\n",
       "      <td>8</td>\n",
       "      <td>-1</td>\n",
       "      <td>-112.500000</td>\n",
       "      <td>&lt;-30%</td>\n",
       "    </tr>\n",
       "    <tr>\n",
       "      <th>1</th>\n",
       "      <td>2</td>\n",
       "      <td>8</td>\n",
       "      <td>3</td>\n",
       "      <td>-62.500000</td>\n",
       "      <td>&lt;-30%</td>\n",
       "    </tr>\n",
       "    <tr>\n",
       "      <th>2</th>\n",
       "      <td>3</td>\n",
       "      <td>28</td>\n",
       "      <td>42</td>\n",
       "      <td>50.000000</td>\n",
       "      <td>&gt;30%</td>\n",
       "    </tr>\n",
       "    <tr>\n",
       "      <th>3</th>\n",
       "      <td>4</td>\n",
       "      <td>29</td>\n",
       "      <td>38</td>\n",
       "      <td>31.034483</td>\n",
       "      <td>&gt;30%</td>\n",
       "    </tr>\n",
       "    <tr>\n",
       "      <th>4</th>\n",
       "      <td>5</td>\n",
       "      <td>43</td>\n",
       "      <td>51</td>\n",
       "      <td>18.604651</td>\n",
       "      <td>10% to 20%</td>\n",
       "    </tr>\n",
       "    <tr>\n",
       "      <th>...</th>\n",
       "      <td>...</td>\n",
       "      <td>...</td>\n",
       "      <td>...</td>\n",
       "      <td>...</td>\n",
       "      <td>...</td>\n",
       "    </tr>\n",
       "    <tr>\n",
       "      <th>195</th>\n",
       "      <td>196</td>\n",
       "      <td>19</td>\n",
       "      <td>9</td>\n",
       "      <td>-52.631579</td>\n",
       "      <td>&lt;-30%</td>\n",
       "    </tr>\n",
       "    <tr>\n",
       "      <th>196</th>\n",
       "      <td>197</td>\n",
       "      <td>19</td>\n",
       "      <td>31</td>\n",
       "      <td>63.157895</td>\n",
       "      <td>&gt;30%</td>\n",
       "    </tr>\n",
       "    <tr>\n",
       "      <th>197</th>\n",
       "      <td>198</td>\n",
       "      <td>30</td>\n",
       "      <td>31</td>\n",
       "      <td>3.333333</td>\n",
       "      <td>0% to 10%</td>\n",
       "    </tr>\n",
       "    <tr>\n",
       "      <th>198</th>\n",
       "      <td>199</td>\n",
       "      <td>14</td>\n",
       "      <td>28</td>\n",
       "      <td>100.000000</td>\n",
       "      <td>&gt;30%</td>\n",
       "    </tr>\n",
       "    <tr>\n",
       "      <th>199</th>\n",
       "      <td>200</td>\n",
       "      <td>11</td>\n",
       "      <td>7</td>\n",
       "      <td>-36.363636</td>\n",
       "      <td>&lt;-30%</td>\n",
       "    </tr>\n",
       "  </tbody>\n",
       "</table>\n",
       "<p>200 rows × 5 columns</p>\n",
       "</div>"
      ],
      "text/plain": [
       "     Piece  LeadTimeObserved  LeadTimeTheoretical  DeviationPercent  \\\n",
       "0        1                 8                   -1       -112.500000   \n",
       "1        2                 8                    3        -62.500000   \n",
       "2        3                28                   42         50.000000   \n",
       "3        4                29                   38         31.034483   \n",
       "4        5                43                   51         18.604651   \n",
       "..     ...               ...                  ...               ...   \n",
       "195    196                19                    9        -52.631579   \n",
       "196    197                19                   31         63.157895   \n",
       "197    198                30                   31          3.333333   \n",
       "198    199                14                   28        100.000000   \n",
       "199    200                11                    7        -36.363636   \n",
       "\n",
       "    DeviationCategory  \n",
       "0               <-30%  \n",
       "1               <-30%  \n",
       "2                >30%  \n",
       "3                >30%  \n",
       "4          10% to 20%  \n",
       "..                ...  \n",
       "195             <-30%  \n",
       "196              >30%  \n",
       "197         0% to 10%  \n",
       "198              >30%  \n",
       "199             <-30%  \n",
       "\n",
       "[200 rows x 5 columns]"
      ]
     },
     "execution_count": 14,
     "metadata": {},
     "output_type": "execute_result"
    }
   ],
   "source": [
    "df['DeviationCategory'] = pd.cut(df['DeviationPercent'], bins=bins, labels=labels)\n",
    "df"
   ]
  },
  {
   "cell_type": "code",
   "execution_count": 15,
   "id": "bcffa38f-87d2-47fe-843b-7f4f886a1ba2",
   "metadata": {},
   "outputs": [
    {
     "data": {
      "text/plain": [
       "DeviationCategory\n",
       "<-30%           30\n",
       "-30% to -20%    11\n",
       "-20% to -10%    19\n",
       "-10% to 0%      30\n",
       "0% to 10%       17\n",
       "10% to 20%      17\n",
       "20% to 30%      21\n",
       ">30%            55\n",
       "Name: count, dtype: int64"
      ]
     },
     "execution_count": 15,
     "metadata": {},
     "output_type": "execute_result"
    }
   ],
   "source": [
    "# Count the number of pieces in each category\n",
    "deviation_counts = df['DeviationCategory'].value_counts().sort_index()\n",
    "deviation_counts"
   ]
  },
  {
   "cell_type": "code",
   "execution_count": 16,
   "id": "bc06f81d-5ecb-4822-b382-e1c37f8d66e9",
   "metadata": {},
   "outputs": [
    {
     "data": {
      "text/plain": [
       "<module 'matplotlib.pyplot' from '/opt/conda/lib/python3.11/site-packages/matplotlib/pyplot.py'>"
      ]
     },
     "execution_count": 16,
     "metadata": {},
     "output_type": "execute_result"
    },
    {
     "data": {
      "text/plain": [
       "<Figure size 1400x800 with 0 Axes>"
      ]
     },
     "metadata": {},
     "output_type": "display_data"
    }
   ],
   "source": [
    "plt.figure(figsize=(14, 8))\n",
    "plt"
   ]
  },
  {
   "cell_type": "code",
   "execution_count": 17,
   "id": "353a3e97-be89-40ad-9a5b-82841243d378",
   "metadata": {},
   "outputs": [
    {
     "data": {
      "text/plain": [
       "<BarContainer object of 8 artists>"
      ]
     },
     "execution_count": 17,
     "metadata": {},
     "output_type": "execute_result"
    },
    {
     "data": {
      "image/png": "[encoded data removed]",
      "text/plain": [
       "<Figure size 640x480 with 1 Axes>"
      ]
     },
     "metadata": {},
     "output_type": "display_data"
    }
   ],
   "source": [
    "bars = plt.bar(deviation_counts.index, deviation_counts.values, color=['#FF9999', '#FF6666', '#FF3333', '#FF0000', '#66FF66', '#33CC33', '#009900', '#006600'])\n",
    "bars"
   ]
  },
  {
   "cell_type": "code",
   "execution_count": 21,
   "id": "d1d45ccd-995b-4211-abe1-8c875fef7fbe",
   "metadata": {},
   "outputs": [
    {
     "ename": "AttributeError",
     "evalue": "'BarContainer' object has no attribute 'get_height'",
     "output_type": "error",
     "traceback": [
      "\u001b[0;31m---------------------------------------------------------------------------\u001b[0m",
      "\u001b[0;31mAttributeError\u001b[0m                            Traceback (most recent call last)",
      "Cell \u001b[0;32mIn[21], line 2\u001b[0m\n\u001b[1;32m      1\u001b[0m \u001b[38;5;66;03m# Adding text on bars for bar in bars:\u001b[39;00m\n\u001b[0;32m----> 2\u001b[0m yval \u001b[38;5;241m=\u001b[39m \u001b[43mbars\u001b[49m\u001b[38;5;241;43m.\u001b[39;49m\u001b[43mget_height\u001b[49m()\n\u001b[1;32m      3\u001b[0m plt\u001b[38;5;241m.\u001b[39mtext(bars\u001b[38;5;241m.\u001b[39mget_x() \u001b[38;5;241m+\u001b[39m bars\u001b[38;5;241m.\u001b[39mget_width() \u001b[38;5;241m/\u001b[39m \u001b[38;5;241m2\u001b[39m, yval, \u001b[38;5;28mint\u001b[39m(yval), va\u001b[38;5;241m=\u001b[39m\u001b[38;5;124m'\u001b[39m\u001b[38;5;124mbottom\u001b[39m\u001b[38;5;124m'\u001b[39m, ha\u001b[38;5;241m=\u001b[39m\u001b[38;5;124m'\u001b[39m\u001b[38;5;124mcenter\u001b[39m\u001b[38;5;124m'\u001b[39m)\n\u001b[1;32m      4\u001b[0m \u001b[38;5;66;03m# Customizing the plot\u001b[39;00m\n",
      "\u001b[0;31mAttributeError\u001b[0m: 'BarContainer' object has no attribute 'get_height'"
     ]
    }
   ],
   "source": [
    "# Adding text on bars for bar in bars:\n",
    "yval = bars.get_height()\n",
    "plt.text(bars.get_x() + bars.get_width() / 2, yval, int(yval), va='bottom', ha='center')\n",
    "# Customizing the plot\n",
    "plt.xlabel('Deviation Category')\n",
    "plt.ylabel('Number of Pieces')\n",
    "plt.title('Deviation between Theoretical and Observed Lead Times') \n",
    "plt.grid(axis='y')\n",
    "# Display the plot \n",
    "plt.show()"
   ]
  },
  {
   "cell_type": "code",
   "execution_count": null,
   "id": "23cb388c-4bbd-4caf-8663-3357ca980570",
   "metadata": {},
   "outputs": [],
   "source": [
    "# Displaying the DataFrame to the user\n",
    "import ace_tools as tools; \n",
    "tools.display_dataframe_to_user(name=\"Lead Time Analysis Data\", dataframe=df) \n",
    "### Explication"
   ]
  }
 ],
 "metadata": {
  "kernelspec": {
   "display_name": "Python 3 (ipykernel)",
   "language": "python",
   "name": "python3"
  },
  "language_info": {
   "codemirror_mode": {
    "name": "ipython",
    "version": 3
   },
   "file_extension": ".py",
   "mimetype": "text/x-python",
   "name": "python",
   "nbconvert_exporter": "python",
   "pygments_lexer": "ipython3",
   "version": "3.11.9"
  }
 },
 "nbformat": 4,
 "nbformat_minor": 5
}
