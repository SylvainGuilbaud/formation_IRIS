{
 "cells": [
  {
   "cell_type": "code",
   "execution_count": 36,
   "id": "9f7b5878-d158-4423-97d3-9baf3b4cfe1a",
   "metadata": {},
   "outputs": [
    {
     "ename": "ModuleNotFoundError",
     "evalue": "No module named 'pythonint'",
     "output_type": "error",
     "traceback": [
      "\u001b[0;31m---------------------------------------------------------------------------\u001b[0m",
      "\u001b[0;31mModuleNotFoundError\u001b[0m                       Traceback (most recent call last)",
      "Cell \u001b[0;32mIn[36], line 1\u001b[0m\n\u001b[0;32m----> 1\u001b[0m \u001b[38;5;28;01mimport\u001b[39;00m \u001b[38;5;21;01miris\u001b[39;00m\n\u001b[1;32m      2\u001b[0m \u001b[38;5;28;01mimport\u001b[39;00m \u001b[38;5;21;01mnumpy\u001b[39;00m \u001b[38;5;28;01mas\u001b[39;00m \u001b[38;5;21;01mnp\u001b[39;00m\n\u001b[1;32m      3\u001b[0m \u001b[38;5;28;01mimport\u001b[39;00m \u001b[38;5;21;01mnames\u001b[39;00m\n",
      "File \u001b[0;32m/opt/conda/lib/python3.11/site-packages/iris/__init__.py:18\u001b[0m\n\u001b[1;32m     15\u001b[0m \u001b[38;5;66;03m# also append lib/python\u001b[39;00m\n\u001b[1;32m     16\u001b[0m __syspath\u001b[38;5;241m.\u001b[39mappend(os\u001b[38;5;241m.\u001b[39mpath\u001b[38;5;241m.\u001b[39mjoin(installdir, \u001b[38;5;124m'\u001b[39m\u001b[38;5;124mlib\u001b[39m\u001b[38;5;124m'\u001b[39m, \u001b[38;5;124m'\u001b[39m\u001b[38;5;124mpython\u001b[39m\u001b[38;5;124m'\u001b[39m))\n\u001b[0;32m---> 18\u001b[0m \u001b[38;5;28;01mfrom\u001b[39;00m \u001b[38;5;21;01mpythonint\u001b[39;00m \u001b[38;5;28;01mimport\u001b[39;00m \u001b[38;5;241m*\u001b[39m\n\u001b[1;32m     20\u001b[0m \u001b[38;5;66;03m# TODO: Figure out how to hide __syspath and __ospath from anyone that\u001b[39;00m\n\u001b[1;32m     21\u001b[0m \u001b[38;5;66;03m#       imports iris.  Tried __all__ but that only applies to this:\u001b[39;00m\n\u001b[1;32m     22\u001b[0m \u001b[38;5;66;03m#           from iris import *\u001b[39;00m\n\u001b[0;32m   (...)\u001b[0m\n\u001b[1;32m     25\u001b[0m \u001b[38;5;66;03m# End-of-file\u001b[39;00m\n\u001b[1;32m     26\u001b[0m \u001b[38;5;66;03m#\u001b[39;00m\n",
      "\u001b[0;31mModuleNotFoundError\u001b[0m: No module named 'pythonint'"
     ]
    }
   ],
   "source": [
    "import iris\n",
    "import numpy as np\n",
    "import names\n",
    "import matplotlib.pyplot as plt\n",
    "import random_address\n",
    "import datetime\n",
    "from datetime import datetime, timedelta\n",
    "import time\n",
    "import random\n",
    "from phone_gen import PhoneNumber"
   ]
  },
  {
   "cell_type": "code",
   "execution_count": 2,
   "id": "915cd2cb-059f-40b1-86b3-7ead09269b50",
   "metadata": {},
   "outputs": [
    {
     "ename": "NameError",
     "evalue": "name 'iris' is not defined",
     "output_type": "error",
     "traceback": [
      "\u001b[0;31m---------------------------------------------------------------------------\u001b[0m",
      "\u001b[0;31mNameError\u001b[0m                                 Traceback (most recent call last)",
      "Cell \u001b[0;32mIn[2], line 5\u001b[0m\n\u001b[1;32m      2\u001b[0m username \u001b[38;5;241m=\u001b[39m \u001b[38;5;124m\"\u001b[39m\u001b[38;5;124msuperuser\u001b[39m\u001b[38;5;124m\"\u001b[39m\n\u001b[1;32m      3\u001b[0m password \u001b[38;5;241m=\u001b[39m \u001b[38;5;124m\"\u001b[39m\u001b[38;5;124mSYS\u001b[39m\u001b[38;5;124m\"\u001b[39m\n\u001b[0;32m----> 5\u001b[0m connectionIRIS \u001b[38;5;241m=\u001b[39m \u001b[43miris\u001b[49m\u001b[38;5;241m.\u001b[39mconnect(connection_string, username, password)\n\u001b[1;32m      6\u001b[0m cursorIRIS \u001b[38;5;241m=\u001b[39m connectionIRIS\u001b[38;5;241m.\u001b[39mcursor()\n\u001b[1;32m      7\u001b[0m \u001b[38;5;28mprint\u001b[39m(\u001b[38;5;124m\"\u001b[39m\u001b[38;5;124mConnected\u001b[39m\u001b[38;5;124m\"\u001b[39m)\n",
      "\u001b[0;31mNameError\u001b[0m: name 'iris' is not defined"
     ]
    }
   ],
   "source": [
    "connection_string = \"iris:1972/IRISAPP\"\n",
    "username = \"superuser\"\n",
    "password = \"SYS\"\n",
    "\n",
    "connectionIRIS = iris.connect(connection_string, username, password)\n",
    "cursorIRIS = connectionIRIS.cursor()\n",
    "print(\"Connected\")"
   ]
  },
  {
   "cell_type": "code",
   "execution_count": 3,
   "id": "18f58761-fe27-4eec-b89a-07ec36f4e841",
   "metadata": {},
   "outputs": [
    {
     "ename": "NameError",
     "evalue": "name 'datetime' is not defined",
     "output_type": "error",
     "traceback": [
      "\u001b[0;31m---------------------------------------------------------------------------\u001b[0m",
      "\u001b[0;31mNameError\u001b[0m                                 Traceback (most recent call last)",
      "Cell \u001b[0;32mIn[3], line 1\u001b[0m\n\u001b[0;32m----> 1\u001b[0m start_date \u001b[38;5;241m=\u001b[39m \u001b[43mdatetime\u001b[49m\u001b[38;5;241m.\u001b[39mnow()\n\u001b[1;32m      2\u001b[0m end_date \u001b[38;5;241m=\u001b[39m start_date \u001b[38;5;241m+\u001b[39m timedelta(days\u001b[38;5;241m=\u001b[39m\u001b[38;5;241m10\u001b[39m)\n\u001b[1;32m      3\u001b[0m phone_number \u001b[38;5;241m=\u001b[39m PhoneNumber(\u001b[38;5;124m\"\u001b[39m\u001b[38;5;124mUSA\u001b[39m\u001b[38;5;124m\"\u001b[39m)\n",
      "\u001b[0;31mNameError\u001b[0m: name 'datetime' is not defined"
     ]
    }
   ],
   "source": [
    "start_date = datetime.now()\n",
    "end_date = start_date + timedelta(days=10)\n",
    "phone_number = PhoneNumber(\"USA\")\n",
    "resultsIRISColumnar = [0]\n",
    "resultsIRISRow = [0]\n",
    "selectIRISColumnar = [0]\n",
    "selectIRISRow = [0]\n",
    "reference = 1\n",
    "\n",
    "parameters =  []\n",
    "for x in range(1000):\n",
    "    parameter = []\n",
    "    amount = random.uniform(1.0, 10000.0)\n",
    "    parameter.append(reference)\n",
    "    parameter.append(names.get_first_name()+' '+names.get_last_name())\n",
    "    parameter.append((start_date + (end_date - start_date) * random.random()).strftime('%Y-%m-%d %H:%M:%S'))\n",
    "    parameter.append(amount)\n",
    "    parameter.append(amount * 0.18)\n",
    "    parameter.append(random.choice(['EMITED','PAYED','SENT','RECEIVED']))\n",
    "    parameters.append(parameter)\n",
    "    reference += 1\n",
    "\n",
    "print(\"Parameters built\")"
   ]
  },
  {
   "cell_type": "code",
   "execution_count": 4,
   "id": "024658da-6266-4c7e-8a6a-b3558b4c282d",
   "metadata": {},
   "outputs": [
    {
     "ename": "NameError",
     "evalue": "name 'datetime' is not defined",
     "output_type": "error",
     "traceback": [
      "\u001b[0;31m---------------------------------------------------------------------------\u001b[0m",
      "\u001b[0;31mNameError\u001b[0m                                 Traceback (most recent call last)",
      "Cell \u001b[0;32mIn[4], line 1\u001b[0m\n\u001b[0;32m----> 1\u001b[0m date_before \u001b[38;5;241m=\u001b[39m \u001b[43mdatetime\u001b[49m\u001b[38;5;241m.\u001b[39mnow()\n\u001b[1;32m      3\u001b[0m cursorIRIS\u001b[38;5;241m.\u001b[39mexecutemany(\u001b[38;5;124m\"\u001b[39m\u001b[38;5;124mINSERT INTO Test.PurchaseOrderColumnar (Reference, Customer, PaymentDate, Vat, Amount, Status) VALUES (?, ?, ?, ?, ?, ?)\u001b[39m\u001b[38;5;124m\"\u001b[39m, parameters)\n\u001b[1;32m      4\u001b[0m connectionIRIS\u001b[38;5;241m.\u001b[39mcommit()\n",
      "\u001b[0;31mNameError\u001b[0m: name 'datetime' is not defined"
     ]
    }
   ],
   "source": [
    "date_before = datetime.now()\n",
    "\n",
    "cursorIRIS.executemany(\"INSERT INTO Test.PurchaseOrderColumnar (Reference, Customer, PaymentDate, Vat, Amount, Status) VALUES (?, ?, ?, ?, ?, ?)\", parameters)\n",
    "connectionIRIS.commit()\n",
    "difference = datetime.now() - date_before\n",
    "print(difference.total_seconds())\n",
    "resultsIRISColumnar.append(difference.total_seconds())"
   ]
  },
  {
   "cell_type": "code",
   "execution_count": 5,
   "id": "4aca0949",
   "metadata": {},
   "outputs": [
    {
     "ename": "NameError",
     "evalue": "name 'datetime' is not defined",
     "output_type": "error",
     "traceback": [
      "\u001b[0;31m---------------------------------------------------------------------------\u001b[0m",
      "\u001b[0;31mNameError\u001b[0m                                 Traceback (most recent call last)",
      "Cell \u001b[0;32mIn[5], line 1\u001b[0m\n\u001b[0;32m----> 1\u001b[0m date_before \u001b[38;5;241m=\u001b[39m \u001b[43mdatetime\u001b[49m\u001b[38;5;241m.\u001b[39mnow()\n\u001b[1;32m      3\u001b[0m cursorIRIS\u001b[38;5;241m.\u001b[39mexecutemany(\u001b[38;5;124m\"\u001b[39m\u001b[38;5;124mINSERT INTO Test.PurchaseOrderRow (Reference, Customer, PaymentDate, Vat, Amount, Status) VALUES (?, ?, ?, ?, ?, ?)\u001b[39m\u001b[38;5;124m\"\u001b[39m, parameters)\n\u001b[1;32m      4\u001b[0m connectionIRIS\u001b[38;5;241m.\u001b[39mcommit()\n",
      "\u001b[0;31mNameError\u001b[0m: name 'datetime' is not defined"
     ]
    }
   ],
   "source": [
    "date_before = datetime.now()\n",
    "\n",
    "cursorIRIS.executemany(\"INSERT INTO Test.PurchaseOrderRow (Reference, Customer, PaymentDate, Vat, Amount, Status) VALUES (?, ?, ?, ?, ?, ?)\", parameters)\n",
    "connectionIRIS.commit()\n",
    "difference = datetime.now() - date_before\n",
    "print(difference.total_seconds())\n",
    "resultsIRISRow.append(difference.total_seconds())"
   ]
  },
  {
   "cell_type": "code",
   "execution_count": 6,
   "id": "ab66dc80-0d6b-4ba2-b3b8-c81551d0be83",
   "metadata": {},
   "outputs": [
    {
     "ename": "NameError",
     "evalue": "name 'random' is not defined",
     "output_type": "error",
     "traceback": [
      "\u001b[0;31m---------------------------------------------------------------------------\u001b[0m",
      "\u001b[0;31mNameError\u001b[0m                                 Traceback (most recent call last)",
      "Cell \u001b[0;32mIn[6], line 3\u001b[0m\n\u001b[1;32m      1\u001b[0m \u001b[38;5;28;01mfor\u001b[39;00m x \u001b[38;5;129;01min\u001b[39;00m \u001b[38;5;28mrange\u001b[39m(\u001b[38;5;241m4000\u001b[39m):\n\u001b[1;32m      2\u001b[0m     parameter \u001b[38;5;241m=\u001b[39m []\n\u001b[0;32m----> 3\u001b[0m     amount \u001b[38;5;241m=\u001b[39m \u001b[43mrandom\u001b[49m\u001b[38;5;241m.\u001b[39muniform(\u001b[38;5;241m1.0\u001b[39m, \u001b[38;5;241m10000.0\u001b[39m)\n\u001b[1;32m      4\u001b[0m     parameter\u001b[38;5;241m.\u001b[39mappend(reference)\n\u001b[1;32m      5\u001b[0m     parameter\u001b[38;5;241m.\u001b[39mappend(names\u001b[38;5;241m.\u001b[39mget_first_name()\u001b[38;5;241m+\u001b[39m\u001b[38;5;124m'\u001b[39m\u001b[38;5;124m \u001b[39m\u001b[38;5;124m'\u001b[39m\u001b[38;5;241m+\u001b[39mnames\u001b[38;5;241m.\u001b[39mget_last_name())\n",
      "\u001b[0;31mNameError\u001b[0m: name 'random' is not defined"
     ]
    }
   ],
   "source": [
    "for x in range(4000):\n",
    "    parameter = []\n",
    "    amount = random.uniform(1.0, 10000.0)\n",
    "    parameter.append(reference)\n",
    "    parameter.append(names.get_first_name()+' '+names.get_last_name())\n",
    "    parameter.append((start_date + (end_date - start_date) * random.random()).strftime('%Y-%m-%d %H:%M:%S'))\n",
    "    parameter.append(amount)\n",
    "    parameter.append(amount * 0.18)\n",
    "    parameter.append(random.choice(['EMITED','PAYED','SENT','RECEIVED']))\n",
    "    parameters.append(parameter)\n",
    "    reference += 1\n",
    "    \n",
    "print(\"Parameters built\")"
   ]
  },
  {
   "cell_type": "code",
   "execution_count": 7,
   "id": "2fc4b89f-e980-4cd6-9e51-7894b205380a",
   "metadata": {},
   "outputs": [
    {
     "ename": "NameError",
     "evalue": "name 'datetime' is not defined",
     "output_type": "error",
     "traceback": [
      "\u001b[0;31m---------------------------------------------------------------------------\u001b[0m",
      "\u001b[0;31mNameError\u001b[0m                                 Traceback (most recent call last)",
      "Cell \u001b[0;32mIn[7], line 1\u001b[0m\n\u001b[0;32m----> 1\u001b[0m date_before \u001b[38;5;241m=\u001b[39m \u001b[43mdatetime\u001b[49m\u001b[38;5;241m.\u001b[39mnow()\n\u001b[1;32m      3\u001b[0m cursorIRIS\u001b[38;5;241m.\u001b[39mexecutemany(\u001b[38;5;124m\"\u001b[39m\u001b[38;5;124mINSERT INTO Test.PurchaseOrderColumnar (Reference, Customer, PaymentDate, Vat, Amount, Status) VALUES (?, ?, ?, ?, ?, ?)\u001b[39m\u001b[38;5;124m\"\u001b[39m, parameters)\n\u001b[1;32m      4\u001b[0m connectionIRIS\u001b[38;5;241m.\u001b[39mcommit()\n",
      "\u001b[0;31mNameError\u001b[0m: name 'datetime' is not defined"
     ]
    }
   ],
   "source": [
    "date_before = datetime.now()\n",
    "\n",
    "cursorIRIS.executemany(\"INSERT INTO Test.PurchaseOrderColumnar (Reference, Customer, PaymentDate, Vat, Amount, Status) VALUES (?, ?, ?, ?, ?, ?)\", parameters)\n",
    "connectionIRIS.commit()\n",
    "difference = datetime.now() - date_before\n",
    "print(difference.total_seconds())\n",
    "resultsIRISColumnar.append(difference.total_seconds())"
   ]
  },
  {
   "cell_type": "code",
   "execution_count": 8,
   "id": "ec944d4c",
   "metadata": {},
   "outputs": [
    {
     "ename": "NameError",
     "evalue": "name 'datetime' is not defined",
     "output_type": "error",
     "traceback": [
      "\u001b[0;31m---------------------------------------------------------------------------\u001b[0m",
      "\u001b[0;31mNameError\u001b[0m                                 Traceback (most recent call last)",
      "Cell \u001b[0;32mIn[8], line 1\u001b[0m\n\u001b[0;32m----> 1\u001b[0m date_before \u001b[38;5;241m=\u001b[39m \u001b[43mdatetime\u001b[49m\u001b[38;5;241m.\u001b[39mnow()\n\u001b[1;32m      3\u001b[0m cursorIRIS\u001b[38;5;241m.\u001b[39mexecutemany(\u001b[38;5;124m\"\u001b[39m\u001b[38;5;124mINSERT INTO Test.PurchaseOrderRow (Reference, Customer, PaymentDate, Vat, Amount, Status) VALUES (?, ?, ?, ?, ?, ?)\u001b[39m\u001b[38;5;124m\"\u001b[39m, parameters)\n\u001b[1;32m      4\u001b[0m connectionIRIS\u001b[38;5;241m.\u001b[39mcommit()\n",
      "\u001b[0;31mNameError\u001b[0m: name 'datetime' is not defined"
     ]
    }
   ],
   "source": [
    "date_before = datetime.now()\n",
    "\n",
    "cursorIRIS.executemany(\"INSERT INTO Test.PurchaseOrderRow (Reference, Customer, PaymentDate, Vat, Amount, Status) VALUES (?, ?, ?, ?, ?, ?)\", parameters)\n",
    "connectionIRIS.commit()\n",
    "difference = datetime.now() - date_before\n",
    "print(difference.total_seconds())\n",
    "resultsIRISRow.append(difference.total_seconds())"
   ]
  },
  {
   "cell_type": "code",
   "execution_count": 9,
   "id": "3781c085-8525-482f-a2f9-e968fbb80081",
   "metadata": {},
   "outputs": [
    {
     "ename": "NameError",
     "evalue": "name 'datetime' is not defined",
     "output_type": "error",
     "traceback": [
      "\u001b[0;31m---------------------------------------------------------------------------\u001b[0m",
      "\u001b[0;31mNameError\u001b[0m                                 Traceback (most recent call last)",
      "Cell \u001b[0;32mIn[9], line 1\u001b[0m\n\u001b[0;32m----> 1\u001b[0m date_before \u001b[38;5;241m=\u001b[39m \u001b[43mdatetime\u001b[49m\u001b[38;5;241m.\u001b[39mnow()\n\u001b[1;32m      3\u001b[0m cursorIRIS\u001b[38;5;241m.\u001b[39mexecute(\u001b[38;5;124m\"\u001b[39m\u001b[38;5;124mSELECT AVG(Amount) FROM Test.PurchaseOrderColumnar WHERE Status = \u001b[39m\u001b[38;5;124m'\u001b[39m\u001b[38;5;124mSENT\u001b[39m\u001b[38;5;124m'\u001b[39m\u001b[38;5;124m\"\u001b[39m)\n\u001b[1;32m      4\u001b[0m purchaseOrders \u001b[38;5;241m=\u001b[39m cursorIRIS\u001b[38;5;241m.\u001b[39mfetchall()\n",
      "\u001b[0;31mNameError\u001b[0m: name 'datetime' is not defined"
     ]
    }
   ],
   "source": [
    "date_before = datetime.now()\n",
    "\n",
    "cursorIRIS.execute(\"SELECT AVG(Amount) FROM Test.PurchaseOrderColumnar WHERE Status = 'SENT'\")\n",
    "purchaseOrders = cursorIRIS.fetchall()\n",
    "difference = datetime.now() - date_before\n",
    "selectIRISColumnar.append(difference.total_seconds())\n",
    "print(difference.total_seconds())"
   ]
  },
  {
   "cell_type": "code",
   "execution_count": 10,
   "id": "384db8f7-aa05-451d-8f21-c43362b3584b",
   "metadata": {},
   "outputs": [
    {
     "ename": "NameError",
     "evalue": "name 'datetime' is not defined",
     "output_type": "error",
     "traceback": [
      "\u001b[0;31m---------------------------------------------------------------------------\u001b[0m",
      "\u001b[0;31mNameError\u001b[0m                                 Traceback (most recent call last)",
      "Cell \u001b[0;32mIn[10], line 1\u001b[0m\n\u001b[0;32m----> 1\u001b[0m date_before \u001b[38;5;241m=\u001b[39m \u001b[43mdatetime\u001b[49m\u001b[38;5;241m.\u001b[39mnow()\n\u001b[1;32m      3\u001b[0m cursorIRIS\u001b[38;5;241m.\u001b[39mexecute(\u001b[38;5;124m\"\u001b[39m\u001b[38;5;124mSELECT AVG(Amount) FROM Test.PurchaseOrderRow WHERE Status = \u001b[39m\u001b[38;5;124m'\u001b[39m\u001b[38;5;124mSENT\u001b[39m\u001b[38;5;124m'\u001b[39m\u001b[38;5;124m\"\u001b[39m)\n\u001b[1;32m      4\u001b[0m purchaseOrders \u001b[38;5;241m=\u001b[39m cursorIRIS\u001b[38;5;241m.\u001b[39mfetchall()\n",
      "\u001b[0;31mNameError\u001b[0m: name 'datetime' is not defined"
     ]
    }
   ],
   "source": [
    "date_before = datetime.now()\n",
    "\n",
    "cursorIRIS.execute(\"SELECT AVG(Amount) FROM Test.PurchaseOrderRow WHERE Status = 'SENT'\")\n",
    "purchaseOrders = cursorIRIS.fetchall()\n",
    "difference = datetime.now() - date_before\n",
    "selectIRISRow.append(difference.total_seconds())\n",
    "print(difference.total_seconds())"
   ]
  },
  {
   "cell_type": "code",
   "execution_count": 11,
   "id": "1ad9caff-3c99-45f7-aeea-dfabed35e912",
   "metadata": {},
   "outputs": [
    {
     "ename": "NameError",
     "evalue": "name 'random' is not defined",
     "output_type": "error",
     "traceback": [
      "\u001b[0;31m---------------------------------------------------------------------------\u001b[0m",
      "\u001b[0;31mNameError\u001b[0m                                 Traceback (most recent call last)",
      "Cell \u001b[0;32mIn[11], line 3\u001b[0m\n\u001b[1;32m      1\u001b[0m \u001b[38;5;28;01mfor\u001b[39;00m x \u001b[38;5;129;01min\u001b[39;00m \u001b[38;5;28mrange\u001b[39m(\u001b[38;5;241m15000\u001b[39m):\n\u001b[1;32m      2\u001b[0m     parameter \u001b[38;5;241m=\u001b[39m []\n\u001b[0;32m----> 3\u001b[0m     amount \u001b[38;5;241m=\u001b[39m \u001b[43mrandom\u001b[49m\u001b[38;5;241m.\u001b[39muniform(\u001b[38;5;241m1.0\u001b[39m, \u001b[38;5;241m10000.0\u001b[39m)\n\u001b[1;32m      4\u001b[0m     parameter\u001b[38;5;241m.\u001b[39mappend(reference)\n\u001b[1;32m      5\u001b[0m     parameter\u001b[38;5;241m.\u001b[39mappend(names\u001b[38;5;241m.\u001b[39mget_first_name()\u001b[38;5;241m+\u001b[39m\u001b[38;5;124m'\u001b[39m\u001b[38;5;124m \u001b[39m\u001b[38;5;124m'\u001b[39m\u001b[38;5;241m+\u001b[39mnames\u001b[38;5;241m.\u001b[39mget_last_name())\n",
      "\u001b[0;31mNameError\u001b[0m: name 'random' is not defined"
     ]
    }
   ],
   "source": [
    "for x in range(15000):\n",
    "    parameter = []\n",
    "    amount = random.uniform(1.0, 10000.0)\n",
    "    parameter.append(reference)\n",
    "    parameter.append(names.get_first_name()+' '+names.get_last_name())\n",
    "    parameter.append((start_date + (end_date - start_date) * random.random()).strftime('%Y-%m-%d %H:%M:%S'))\n",
    "    parameter.append(amount)\n",
    "    parameter.append(amount * 0.18)\n",
    "    parameter.append(random.choice(['EMITED','PAYED','SENT','RECEIVED']))\n",
    "    parameters.append(parameter)\n",
    "    reference += 1\n",
    "\n",
    "print(\"Parameters built\")"
   ]
  },
  {
   "cell_type": "code",
   "execution_count": 12,
   "id": "a5b83d52-879d-4e60-9ce2-b32df9f1b30f",
   "metadata": {},
   "outputs": [
    {
     "ename": "NameError",
     "evalue": "name 'datetime' is not defined",
     "output_type": "error",
     "traceback": [
      "\u001b[0;31m---------------------------------------------------------------------------\u001b[0m",
      "\u001b[0;31mNameError\u001b[0m                                 Traceback (most recent call last)",
      "Cell \u001b[0;32mIn[12], line 1\u001b[0m\n\u001b[0;32m----> 1\u001b[0m date_before \u001b[38;5;241m=\u001b[39m \u001b[43mdatetime\u001b[49m\u001b[38;5;241m.\u001b[39mnow()\n\u001b[1;32m      3\u001b[0m cursorIRIS\u001b[38;5;241m.\u001b[39mexecutemany(\u001b[38;5;124m\"\u001b[39m\u001b[38;5;124mINSERT INTO Test.PurchaseOrderColumnar (Reference, Customer, PaymentDate, Vat, Amount, Status) VALUES (?, ?, ?, ?, ?, ?)\u001b[39m\u001b[38;5;124m\"\u001b[39m, parameters)\n\u001b[1;32m      4\u001b[0m connectionIRIS\u001b[38;5;241m.\u001b[39mcommit()\n",
      "\u001b[0;31mNameError\u001b[0m: name 'datetime' is not defined"
     ]
    }
   ],
   "source": [
    "date_before = datetime.now()\n",
    "\n",
    "cursorIRIS.executemany(\"INSERT INTO Test.PurchaseOrderColumnar (Reference, Customer, PaymentDate, Vat, Amount, Status) VALUES (?, ?, ?, ?, ?, ?)\", parameters)\n",
    "connectionIRIS.commit()\n",
    "difference = datetime.now() - date_before\n",
    "print(difference.total_seconds())\n",
    "resultsIRISColumnar.append(difference.total_seconds())"
   ]
  },
  {
   "cell_type": "code",
   "execution_count": 13,
   "id": "017a7cee",
   "metadata": {},
   "outputs": [
    {
     "ename": "NameError",
     "evalue": "name 'datetime' is not defined",
     "output_type": "error",
     "traceback": [
      "\u001b[0;31m---------------------------------------------------------------------------\u001b[0m",
      "\u001b[0;31mNameError\u001b[0m                                 Traceback (most recent call last)",
      "Cell \u001b[0;32mIn[13], line 1\u001b[0m\n\u001b[0;32m----> 1\u001b[0m date_before \u001b[38;5;241m=\u001b[39m \u001b[43mdatetime\u001b[49m\u001b[38;5;241m.\u001b[39mnow()\n\u001b[1;32m      3\u001b[0m cursorIRIS\u001b[38;5;241m.\u001b[39mexecutemany(\u001b[38;5;124m\"\u001b[39m\u001b[38;5;124mINSERT INTO Test.PurchaseOrderRow (Reference, Customer, PaymentDate, Vat, Amount, Status) VALUES (?, ?, ?, ?, ?, ?)\u001b[39m\u001b[38;5;124m\"\u001b[39m, parameters)\n\u001b[1;32m      4\u001b[0m connectionIRIS\u001b[38;5;241m.\u001b[39mcommit()\n",
      "\u001b[0;31mNameError\u001b[0m: name 'datetime' is not defined"
     ]
    }
   ],
   "source": [
    "date_before = datetime.now()\n",
    "\n",
    "cursorIRIS.executemany(\"INSERT INTO Test.PurchaseOrderRow (Reference, Customer, PaymentDate, Vat, Amount, Status) VALUES (?, ?, ?, ?, ?, ?)\", parameters)\n",
    "connectionIRIS.commit()\n",
    "difference = datetime.now() - date_before\n",
    "print(difference.total_seconds())\n",
    "resultsIRISRow.append(difference.total_seconds())"
   ]
  },
  {
   "cell_type": "code",
   "execution_count": 14,
   "id": "1b936fb6-a9c1-4ba8-a6db-dbdf6053fb85",
   "metadata": {},
   "outputs": [
    {
     "ename": "NameError",
     "evalue": "name 'datetime' is not defined",
     "output_type": "error",
     "traceback": [
      "\u001b[0;31m---------------------------------------------------------------------------\u001b[0m",
      "\u001b[0;31mNameError\u001b[0m                                 Traceback (most recent call last)",
      "Cell \u001b[0;32mIn[14], line 1\u001b[0m\n\u001b[0;32m----> 1\u001b[0m date_before \u001b[38;5;241m=\u001b[39m \u001b[43mdatetime\u001b[49m\u001b[38;5;241m.\u001b[39mnow()\n\u001b[1;32m      3\u001b[0m cursorIRIS\u001b[38;5;241m.\u001b[39mexecute(\u001b[38;5;124m\"\u001b[39m\u001b[38;5;124mSELECT AVG(Amount) FROM Test.PurchaseOrderColumnar WHERE Status = \u001b[39m\u001b[38;5;124m'\u001b[39m\u001b[38;5;124mSENT\u001b[39m\u001b[38;5;124m'\u001b[39m\u001b[38;5;124m\"\u001b[39m)\n\u001b[1;32m      4\u001b[0m purchaseOrders \u001b[38;5;241m=\u001b[39m cursorIRIS\u001b[38;5;241m.\u001b[39mfetchall()\n",
      "\u001b[0;31mNameError\u001b[0m: name 'datetime' is not defined"
     ]
    }
   ],
   "source": [
    "date_before = datetime.now()\n",
    "\n",
    "cursorIRIS.execute(\"SELECT AVG(Amount) FROM Test.PurchaseOrderColumnar WHERE Status = 'SENT'\")\n",
    "purchaseOrders = cursorIRIS.fetchall()\n",
    "difference = datetime.now() - date_before\n",
    "selectIRISColumnar.append(difference.total_seconds())\n",
    "print(difference.total_seconds())"
   ]
  },
  {
   "cell_type": "code",
   "execution_count": 15,
   "id": "1e8426ff-4ab6-4a14-b068-cdc381c5fc0c",
   "metadata": {},
   "outputs": [
    {
     "ename": "NameError",
     "evalue": "name 'datetime' is not defined",
     "output_type": "error",
     "traceback": [
      "\u001b[0;31m---------------------------------------------------------------------------\u001b[0m",
      "\u001b[0;31mNameError\u001b[0m                                 Traceback (most recent call last)",
      "Cell \u001b[0;32mIn[15], line 1\u001b[0m\n\u001b[0;32m----> 1\u001b[0m date_before \u001b[38;5;241m=\u001b[39m \u001b[43mdatetime\u001b[49m\u001b[38;5;241m.\u001b[39mnow()\n\u001b[1;32m      3\u001b[0m cursorIRIS\u001b[38;5;241m.\u001b[39mexecute(\u001b[38;5;124m\"\u001b[39m\u001b[38;5;124mSELECT AVG(Amount) FROM Test.PurchaseOrderRow WHERE Status = \u001b[39m\u001b[38;5;124m'\u001b[39m\u001b[38;5;124mSENT\u001b[39m\u001b[38;5;124m'\u001b[39m\u001b[38;5;124m\"\u001b[39m)\n\u001b[1;32m      4\u001b[0m purchaseOrders \u001b[38;5;241m=\u001b[39m cursorIRIS\u001b[38;5;241m.\u001b[39mfetchall()\n",
      "\u001b[0;31mNameError\u001b[0m: name 'datetime' is not defined"
     ]
    }
   ],
   "source": [
    "date_before = datetime.now()\n",
    "\n",
    "cursorIRIS.execute(\"SELECT AVG(Amount) FROM Test.PurchaseOrderRow WHERE Status = 'SENT'\")\n",
    "purchaseOrders = cursorIRIS.fetchall()\n",
    "difference = datetime.now() - date_before\n",
    "selectIRISRow.append(difference.total_seconds())\n",
    "print(difference.total_seconds())"
   ]
  },
  {
   "cell_type": "code",
   "execution_count": 16,
   "id": "f789b8b0-aa27-4143-9087-9528b744da1f",
   "metadata": {},
   "outputs": [
    {
     "ename": "NameError",
     "evalue": "name 'random' is not defined",
     "output_type": "error",
     "traceback": [
      "\u001b[0;31m---------------------------------------------------------------------------\u001b[0m",
      "\u001b[0;31mNameError\u001b[0m                                 Traceback (most recent call last)",
      "Cell \u001b[0;32mIn[16], line 3\u001b[0m\n\u001b[1;32m      1\u001b[0m \u001b[38;5;28;01mfor\u001b[39;00m x \u001b[38;5;129;01min\u001b[39;00m \u001b[38;5;28mrange\u001b[39m(\u001b[38;5;241m30000\u001b[39m):\n\u001b[1;32m      2\u001b[0m     parameter \u001b[38;5;241m=\u001b[39m []\n\u001b[0;32m----> 3\u001b[0m     amount \u001b[38;5;241m=\u001b[39m \u001b[43mrandom\u001b[49m\u001b[38;5;241m.\u001b[39muniform(\u001b[38;5;241m1.0\u001b[39m, \u001b[38;5;241m10000.0\u001b[39m)\n\u001b[1;32m      4\u001b[0m     parameter\u001b[38;5;241m.\u001b[39mappend(reference)\n\u001b[1;32m      5\u001b[0m     parameter\u001b[38;5;241m.\u001b[39mappend(names\u001b[38;5;241m.\u001b[39mget_first_name()\u001b[38;5;241m+\u001b[39m\u001b[38;5;124m'\u001b[39m\u001b[38;5;124m \u001b[39m\u001b[38;5;124m'\u001b[39m\u001b[38;5;241m+\u001b[39mnames\u001b[38;5;241m.\u001b[39mget_last_name())\n",
      "\u001b[0;31mNameError\u001b[0m: name 'random' is not defined"
     ]
    }
   ],
   "source": [
    "for x in range(30000):\n",
    "    parameter = []\n",
    "    amount = random.uniform(1.0, 10000.0)\n",
    "    parameter.append(reference)\n",
    "    parameter.append(names.get_first_name()+' '+names.get_last_name())\n",
    "    parameter.append((start_date + (end_date - start_date) * random.random()).strftime('%Y-%m-%d %H:%M:%S'))\n",
    "    parameter.append(amount)\n",
    "    parameter.append(amount * 0.18)\n",
    "    parameter.append(random.choice(['EMITED','PAYED','SENT','RECEIVED']))\n",
    "    parameters.append(parameter)\n",
    "    reference += 1\n",
    "\n",
    "print(\"Parameters built\")"
   ]
  },
  {
   "cell_type": "code",
   "execution_count": 17,
   "id": "ca015bbf-0625-4253-932b-2fc4826ba735",
   "metadata": {},
   "outputs": [
    {
     "ename": "NameError",
     "evalue": "name 'datetime' is not defined",
     "output_type": "error",
     "traceback": [
      "\u001b[0;31m---------------------------------------------------------------------------\u001b[0m",
      "\u001b[0;31mNameError\u001b[0m                                 Traceback (most recent call last)",
      "Cell \u001b[0;32mIn[17], line 1\u001b[0m\n\u001b[0;32m----> 1\u001b[0m date_before \u001b[38;5;241m=\u001b[39m \u001b[43mdatetime\u001b[49m\u001b[38;5;241m.\u001b[39mnow()\n\u001b[1;32m      3\u001b[0m cursorIRIS\u001b[38;5;241m.\u001b[39mexecutemany(\u001b[38;5;124m\"\u001b[39m\u001b[38;5;124mINSERT INTO Test.PurchaseOrderColumnar (Reference, Customer, PaymentDate, Vat, Amount, Status) VALUES (?, ?, ?, ?, ?, ?)\u001b[39m\u001b[38;5;124m\"\u001b[39m, parameters)\n\u001b[1;32m      4\u001b[0m connectionIRIS\u001b[38;5;241m.\u001b[39mcommit()\n",
      "\u001b[0;31mNameError\u001b[0m: name 'datetime' is not defined"
     ]
    }
   ],
   "source": [
    "date_before = datetime.now()\n",
    "\n",
    "cursorIRIS.executemany(\"INSERT INTO Test.PurchaseOrderColumnar (Reference, Customer, PaymentDate, Vat, Amount, Status) VALUES (?, ?, ?, ?, ?, ?)\", parameters)\n",
    "connectionIRIS.commit()\n",
    "difference = datetime.now() - date_before\n",
    "print(difference.total_seconds())\n",
    "resultsIRISColumnar.append(difference.total_seconds())"
   ]
  },
  {
   "cell_type": "code",
   "execution_count": 18,
   "id": "8825cc53-750c-4eea-84c1-830063c3522b",
   "metadata": {},
   "outputs": [
    {
     "ename": "NameError",
     "evalue": "name 'datetime' is not defined",
     "output_type": "error",
     "traceback": [
      "\u001b[0;31m---------------------------------------------------------------------------\u001b[0m",
      "\u001b[0;31mNameError\u001b[0m                                 Traceback (most recent call last)",
      "Cell \u001b[0;32mIn[18], line 1\u001b[0m\n\u001b[0;32m----> 1\u001b[0m date_before \u001b[38;5;241m=\u001b[39m \u001b[43mdatetime\u001b[49m\u001b[38;5;241m.\u001b[39mnow()\n\u001b[1;32m      3\u001b[0m cursorIRIS\u001b[38;5;241m.\u001b[39mexecute(\u001b[38;5;124m\"\u001b[39m\u001b[38;5;124mSELECT AVG(Amount) FROM Test.PurchaseOrderColumnar WHERE Status = \u001b[39m\u001b[38;5;124m'\u001b[39m\u001b[38;5;124mSENT\u001b[39m\u001b[38;5;124m'\u001b[39m\u001b[38;5;124m\"\u001b[39m)\n\u001b[1;32m      4\u001b[0m purchaseOrders \u001b[38;5;241m=\u001b[39m cursorIRIS\u001b[38;5;241m.\u001b[39mfetchall()\n",
      "\u001b[0;31mNameError\u001b[0m: name 'datetime' is not defined"
     ]
    }
   ],
   "source": [
    "date_before = datetime.now()\n",
    "\n",
    "cursorIRIS.execute(\"SELECT AVG(Amount) FROM Test.PurchaseOrderColumnar WHERE Status = 'SENT'\")\n",
    "purchaseOrders = cursorIRIS.fetchall()\n",
    "difference = datetime.now() - date_before\n",
    "selectIRISColumnar.append(difference.total_seconds())\n",
    "print(difference.total_seconds())"
   ]
  },
  {
   "cell_type": "code",
   "execution_count": 19,
   "id": "280d833f-2b23-4401-a101-55448d192903",
   "metadata": {},
   "outputs": [
    {
     "ename": "NameError",
     "evalue": "name 'datetime' is not defined",
     "output_type": "error",
     "traceback": [
      "\u001b[0;31m---------------------------------------------------------------------------\u001b[0m",
      "\u001b[0;31mNameError\u001b[0m                                 Traceback (most recent call last)",
      "Cell \u001b[0;32mIn[19], line 1\u001b[0m\n\u001b[0;32m----> 1\u001b[0m date_before \u001b[38;5;241m=\u001b[39m \u001b[43mdatetime\u001b[49m\u001b[38;5;241m.\u001b[39mnow()\n\u001b[1;32m      3\u001b[0m cursorIRIS\u001b[38;5;241m.\u001b[39mexecute(\u001b[38;5;124m\"\u001b[39m\u001b[38;5;124mSELECT AVG(Amount) FROM Test.PurchaseOrderRow WHERE Status = \u001b[39m\u001b[38;5;124m'\u001b[39m\u001b[38;5;124mSENT\u001b[39m\u001b[38;5;124m'\u001b[39m\u001b[38;5;124m\"\u001b[39m)\n\u001b[1;32m      4\u001b[0m purchaseOrders \u001b[38;5;241m=\u001b[39m cursorIRIS\u001b[38;5;241m.\u001b[39mfetchall()\n",
      "\u001b[0;31mNameError\u001b[0m: name 'datetime' is not defined"
     ]
    }
   ],
   "source": [
    "date_before = datetime.now()\n",
    "\n",
    "cursorIRIS.execute(\"SELECT AVG(Amount) FROM Test.PurchaseOrderRow WHERE Status = 'SENT'\")\n",
    "purchaseOrders = cursorIRIS.fetchall()\n",
    "difference = datetime.now() - date_before\n",
    "selectIRISRow.append(difference.total_seconds())\n",
    "print(difference.total_seconds())"
   ]
  },
  {
   "cell_type": "code",
   "execution_count": 20,
   "id": "b8bdeca0",
   "metadata": {},
   "outputs": [
    {
     "ename": "NameError",
     "evalue": "name 'datetime' is not defined",
     "output_type": "error",
     "traceback": [
      "\u001b[0;31m---------------------------------------------------------------------------\u001b[0m",
      "\u001b[0;31mNameError\u001b[0m                                 Traceback (most recent call last)",
      "Cell \u001b[0;32mIn[20], line 1\u001b[0m\n\u001b[0;32m----> 1\u001b[0m date_before \u001b[38;5;241m=\u001b[39m \u001b[43mdatetime\u001b[49m\u001b[38;5;241m.\u001b[39mnow()\n\u001b[1;32m      3\u001b[0m cursorIRIS\u001b[38;5;241m.\u001b[39mexecutemany(\u001b[38;5;124m\"\u001b[39m\u001b[38;5;124mINSERT INTO Test.PurchaseOrderRow (Reference, Customer, PaymentDate, Vat, Amount, Status) VALUES (?, ?, ?, ?, ?, ?)\u001b[39m\u001b[38;5;124m\"\u001b[39m, parameters)\n\u001b[1;32m      4\u001b[0m connectionIRIS\u001b[38;5;241m.\u001b[39mcommit()\n",
      "\u001b[0;31mNameError\u001b[0m: name 'datetime' is not defined"
     ]
    }
   ],
   "source": [
    "date_before = datetime.now()\n",
    "\n",
    "cursorIRIS.executemany(\"INSERT INTO Test.PurchaseOrderRow (Reference, Customer, PaymentDate, Vat, Amount, Status) VALUES (?, ?, ?, ?, ?, ?)\", parameters)\n",
    "connectionIRIS.commit()\n",
    "difference = datetime.now() - date_before\n",
    "print(difference.total_seconds())\n",
    "resultsIRISRow.append(difference.total_seconds())"
   ]
  },
  {
   "cell_type": "code",
   "execution_count": 21,
   "id": "34529066-02cf-47f8-8969-e8e5c933be9c",
   "metadata": {},
   "outputs": [
    {
     "ename": "NameError",
     "evalue": "name 'datetime' is not defined",
     "output_type": "error",
     "traceback": [
      "\u001b[0;31m---------------------------------------------------------------------------\u001b[0m",
      "\u001b[0;31mNameError\u001b[0m                                 Traceback (most recent call last)",
      "Cell \u001b[0;32mIn[21], line 1\u001b[0m\n\u001b[0;32m----> 1\u001b[0m date_before \u001b[38;5;241m=\u001b[39m \u001b[43mdatetime\u001b[49m\u001b[38;5;241m.\u001b[39mnow()\n\u001b[1;32m      3\u001b[0m cursorIRIS\u001b[38;5;241m.\u001b[39mexecute(\u001b[38;5;124m\"\u001b[39m\u001b[38;5;124mSELECT AVG(Amount) FROM Test.PurchaseOrderColumnar WHERE Status = \u001b[39m\u001b[38;5;124m'\u001b[39m\u001b[38;5;124mSENT\u001b[39m\u001b[38;5;124m'\u001b[39m\u001b[38;5;124m\"\u001b[39m)\n\u001b[1;32m      4\u001b[0m purchaseOrders \u001b[38;5;241m=\u001b[39m cursorIRIS\u001b[38;5;241m.\u001b[39mfetchall()\n",
      "\u001b[0;31mNameError\u001b[0m: name 'datetime' is not defined"
     ]
    }
   ],
   "source": [
    "date_before = datetime.now()\n",
    "\n",
    "cursorIRIS.execute(\"SELECT AVG(Amount) FROM Test.PurchaseOrderColumnar WHERE Status = 'SENT'\")\n",
    "purchaseOrders = cursorIRIS.fetchall()\n",
    "difference = datetime.now() - date_before\n",
    "selectIRISColumnar.append(difference.total_seconds())\n",
    "print(difference.total_seconds())"
   ]
  },
  {
   "cell_type": "code",
   "execution_count": 22,
   "id": "661fdd17",
   "metadata": {},
   "outputs": [
    {
     "ename": "NameError",
     "evalue": "name 'datetime' is not defined",
     "output_type": "error",
     "traceback": [
      "\u001b[0;31m---------------------------------------------------------------------------\u001b[0m",
      "\u001b[0;31mNameError\u001b[0m                                 Traceback (most recent call last)",
      "Cell \u001b[0;32mIn[22], line 1\u001b[0m\n\u001b[0;32m----> 1\u001b[0m date_before \u001b[38;5;241m=\u001b[39m \u001b[43mdatetime\u001b[49m\u001b[38;5;241m.\u001b[39mnow()\n\u001b[1;32m      3\u001b[0m cursorIRIS\u001b[38;5;241m.\u001b[39mexecute(\u001b[38;5;124m\"\u001b[39m\u001b[38;5;124mSELECT AVG(Amount) FROM Test.PurchaseOrderRow WHERE Status = \u001b[39m\u001b[38;5;124m'\u001b[39m\u001b[38;5;124mSENT\u001b[39m\u001b[38;5;124m'\u001b[39m\u001b[38;5;124m\"\u001b[39m)\n\u001b[1;32m      4\u001b[0m purchaseOrders \u001b[38;5;241m=\u001b[39m cursorIRIS\u001b[38;5;241m.\u001b[39mfetchall()\n",
      "\u001b[0;31mNameError\u001b[0m: name 'datetime' is not defined"
     ]
    }
   ],
   "source": [
    "date_before = datetime.now()\n",
    "\n",
    "cursorIRIS.execute(\"SELECT AVG(Amount) FROM Test.PurchaseOrderRow WHERE Status = 'SENT'\")\n",
    "purchaseOrders = cursorIRIS.fetchall()\n",
    "difference = datetime.now() - date_before\n",
    "selectIRISRow.append(difference.total_seconds())\n",
    "print(difference.total_seconds())"
   ]
  },
  {
   "cell_type": "code",
   "execution_count": 23,
   "id": "2ae0e104-40cb-4adb-874c-17c2ca06f1a2",
   "metadata": {},
   "outputs": [
    {
     "ename": "NameError",
     "evalue": "name 'parameters' is not defined",
     "output_type": "error",
     "traceback": [
      "\u001b[0;31m---------------------------------------------------------------------------\u001b[0m",
      "\u001b[0;31mNameError\u001b[0m                                 Traceback (most recent call last)",
      "Cell \u001b[0;32mIn[23], line 1\u001b[0m\n\u001b[0;32m----> 1\u001b[0m parameters \u001b[38;5;241m=\u001b[39m \u001b[43mparameters\u001b[49m \u001b[38;5;241m+\u001b[39m parameters\n",
      "\u001b[0;31mNameError\u001b[0m: name 'parameters' is not defined"
     ]
    }
   ],
   "source": [
    "parameters = parameters + parameters"
   ]
  },
  {
   "cell_type": "code",
   "execution_count": 24,
   "id": "0afe0fb5-7fb8-4e5e-ae57-f26e65c8e1ef",
   "metadata": {},
   "outputs": [
    {
     "ename": "NameError",
     "evalue": "name 'datetime' is not defined",
     "output_type": "error",
     "traceback": [
      "\u001b[0;31m---------------------------------------------------------------------------\u001b[0m",
      "\u001b[0;31mNameError\u001b[0m                                 Traceback (most recent call last)",
      "Cell \u001b[0;32mIn[24], line 1\u001b[0m\n\u001b[0;32m----> 1\u001b[0m date_before \u001b[38;5;241m=\u001b[39m \u001b[43mdatetime\u001b[49m\u001b[38;5;241m.\u001b[39mnow()\n\u001b[1;32m      3\u001b[0m cursorIRIS\u001b[38;5;241m.\u001b[39mexecutemany(\u001b[38;5;124m\"\u001b[39m\u001b[38;5;124mINSERT INTO Test.PurchaseOrderColumnar (Reference, Customer, PaymentDate, Vat, Amount, Status) VALUES (?, ?, ?, ?, ?, ?)\u001b[39m\u001b[38;5;124m\"\u001b[39m, parameters)\n\u001b[1;32m      4\u001b[0m connectionIRIS\u001b[38;5;241m.\u001b[39mcommit()\n",
      "\u001b[0;31mNameError\u001b[0m: name 'datetime' is not defined"
     ]
    }
   ],
   "source": [
    "date_before = datetime.now()\n",
    "\n",
    "cursorIRIS.executemany(\"INSERT INTO Test.PurchaseOrderColumnar (Reference, Customer, PaymentDate, Vat, Amount, Status) VALUES (?, ?, ?, ?, ?, ?)\", parameters)\n",
    "connectionIRIS.commit()\n",
    "difference = datetime.now() - date_before\n",
    "print(difference.total_seconds())\n",
    "resultsIRISColumnar.append(difference.total_seconds())"
   ]
  },
  {
   "cell_type": "code",
   "execution_count": 25,
   "id": "354dfd92-af74-4616-ba8c-094c753e0438",
   "metadata": {},
   "outputs": [
    {
     "ename": "NameError",
     "evalue": "name 'datetime' is not defined",
     "output_type": "error",
     "traceback": [
      "\u001b[0;31m---------------------------------------------------------------------------\u001b[0m",
      "\u001b[0;31mNameError\u001b[0m                                 Traceback (most recent call last)",
      "Cell \u001b[0;32mIn[25], line 1\u001b[0m\n\u001b[0;32m----> 1\u001b[0m date_before \u001b[38;5;241m=\u001b[39m \u001b[43mdatetime\u001b[49m\u001b[38;5;241m.\u001b[39mnow()\n\u001b[1;32m      3\u001b[0m cursorIRIS\u001b[38;5;241m.\u001b[39mexecutemany(\u001b[38;5;124m\"\u001b[39m\u001b[38;5;124mINSERT INTO Test.PurchaseOrderRow (Reference, Customer, PaymentDate, Vat, Amount, Status) VALUES (?, ?, ?, ?, ?, ?)\u001b[39m\u001b[38;5;124m\"\u001b[39m, parameters)\n\u001b[1;32m      4\u001b[0m connectionIRIS\u001b[38;5;241m.\u001b[39mcommit()\n",
      "\u001b[0;31mNameError\u001b[0m: name 'datetime' is not defined"
     ]
    }
   ],
   "source": [
    "date_before = datetime.now()\n",
    "\n",
    "cursorIRIS.executemany(\"INSERT INTO Test.PurchaseOrderRow (Reference, Customer, PaymentDate, Vat, Amount, Status) VALUES (?, ?, ?, ?, ?, ?)\", parameters)\n",
    "connectionIRIS.commit()\n",
    "difference = datetime.now() - date_before\n",
    "print(difference.total_seconds())\n",
    "resultsIRISRow.append(difference.total_seconds())"
   ]
  },
  {
   "cell_type": "code",
   "execution_count": 26,
   "id": "f3e53383-b8ad-457d-855d-80cda1544938",
   "metadata": {},
   "outputs": [
    {
     "ename": "NameError",
     "evalue": "name 'datetime' is not defined",
     "output_type": "error",
     "traceback": [
      "\u001b[0;31m---------------------------------------------------------------------------\u001b[0m",
      "\u001b[0;31mNameError\u001b[0m                                 Traceback (most recent call last)",
      "Cell \u001b[0;32mIn[26], line 1\u001b[0m\n\u001b[0;32m----> 1\u001b[0m date_before \u001b[38;5;241m=\u001b[39m \u001b[43mdatetime\u001b[49m\u001b[38;5;241m.\u001b[39mnow()\n\u001b[1;32m      3\u001b[0m cursorIRIS\u001b[38;5;241m.\u001b[39mexecute(\u001b[38;5;124m\"\u001b[39m\u001b[38;5;124mSELECT AVG(Amount) FROM Test.PurchaseOrderColumnar WHERE Status = \u001b[39m\u001b[38;5;124m'\u001b[39m\u001b[38;5;124mSENT\u001b[39m\u001b[38;5;124m'\u001b[39m\u001b[38;5;124m\"\u001b[39m)\n\u001b[1;32m      4\u001b[0m purchaseOrders \u001b[38;5;241m=\u001b[39m cursorIRIS\u001b[38;5;241m.\u001b[39mfetchall()\n",
      "\u001b[0;31mNameError\u001b[0m: name 'datetime' is not defined"
     ]
    }
   ],
   "source": [
    "date_before = datetime.now()\n",
    "\n",
    "cursorIRIS.execute(\"SELECT AVG(Amount) FROM Test.PurchaseOrderColumnar WHERE Status = 'SENT'\")\n",
    "purchaseOrders = cursorIRIS.fetchall()\n",
    "difference = datetime.now() - date_before\n",
    "selectIRISColumnar.append(difference.total_seconds())\n",
    "print(difference.total_seconds())"
   ]
  },
  {
   "cell_type": "code",
   "execution_count": 27,
   "id": "e0919264-04a7-4252-ac07-8df50d9f365a",
   "metadata": {},
   "outputs": [
    {
     "ename": "NameError",
     "evalue": "name 'datetime' is not defined",
     "output_type": "error",
     "traceback": [
      "\u001b[0;31m---------------------------------------------------------------------------\u001b[0m",
      "\u001b[0;31mNameError\u001b[0m                                 Traceback (most recent call last)",
      "Cell \u001b[0;32mIn[27], line 1\u001b[0m\n\u001b[0;32m----> 1\u001b[0m date_before \u001b[38;5;241m=\u001b[39m \u001b[43mdatetime\u001b[49m\u001b[38;5;241m.\u001b[39mnow()\n\u001b[1;32m      3\u001b[0m cursorIRIS\u001b[38;5;241m.\u001b[39mexecute(\u001b[38;5;124m\"\u001b[39m\u001b[38;5;124mSELECT AVG(Amount) FROM Test.PurchaseOrderRow WHERE Status = \u001b[39m\u001b[38;5;124m'\u001b[39m\u001b[38;5;124mSENT\u001b[39m\u001b[38;5;124m'\u001b[39m\u001b[38;5;124m\"\u001b[39m)\n\u001b[1;32m      4\u001b[0m purchaseOrders \u001b[38;5;241m=\u001b[39m cursorIRIS\u001b[38;5;241m.\u001b[39mfetchall()\n",
      "\u001b[0;31mNameError\u001b[0m: name 'datetime' is not defined"
     ]
    }
   ],
   "source": [
    "date_before = datetime.now()\n",
    "\n",
    "cursorIRIS.execute(\"SELECT AVG(Amount) FROM Test.PurchaseOrderRow WHERE Status = 'SENT'\")\n",
    "purchaseOrders = cursorIRIS.fetchall()\n",
    "difference = datetime.now() - date_before\n",
    "selectIRISRow.append(difference.total_seconds())\n",
    "print(difference.total_seconds())"
   ]
  },
  {
   "cell_type": "code",
   "execution_count": 28,
   "id": "cee299db-3790-455c-8347-40a5ac2e6ba9",
   "metadata": {},
   "outputs": [
    {
     "ename": "NameError",
     "evalue": "name 'parameters' is not defined",
     "output_type": "error",
     "traceback": [
      "\u001b[0;31m---------------------------------------------------------------------------\u001b[0m",
      "\u001b[0;31mNameError\u001b[0m                                 Traceback (most recent call last)",
      "Cell \u001b[0;32mIn[28], line 1\u001b[0m\n\u001b[0;32m----> 1\u001b[0m parameters \u001b[38;5;241m=\u001b[39m \u001b[43mparameters\u001b[49m \u001b[38;5;241m+\u001b[39m parameters\n",
      "\u001b[0;31mNameError\u001b[0m: name 'parameters' is not defined"
     ]
    }
   ],
   "source": [
    "parameters = parameters + parameters"
   ]
  },
  {
   "cell_type": "code",
   "execution_count": 29,
   "id": "34fdc38c-02df-4df3-8ae5-6d464855a9a3",
   "metadata": {},
   "outputs": [
    {
     "ename": "NameError",
     "evalue": "name 'datetime' is not defined",
     "output_type": "error",
     "traceback": [
      "\u001b[0;31m---------------------------------------------------------------------------\u001b[0m",
      "\u001b[0;31mNameError\u001b[0m                                 Traceback (most recent call last)",
      "Cell \u001b[0;32mIn[29], line 1\u001b[0m\n\u001b[0;32m----> 1\u001b[0m date_before \u001b[38;5;241m=\u001b[39m \u001b[43mdatetime\u001b[49m\u001b[38;5;241m.\u001b[39mnow()\n\u001b[1;32m      3\u001b[0m cursorIRIS\u001b[38;5;241m.\u001b[39mexecutemany(\u001b[38;5;124m\"\u001b[39m\u001b[38;5;124mINSERT INTO Test.PurchaseOrderColumnar (Reference, Customer, PaymentDate, Vat, Amount, Status) VALUES (?, ?, ?, ?, ?, ?)\u001b[39m\u001b[38;5;124m\"\u001b[39m, parameters)\n\u001b[1;32m      4\u001b[0m connectionIRIS\u001b[38;5;241m.\u001b[39mcommit()\n",
      "\u001b[0;31mNameError\u001b[0m: name 'datetime' is not defined"
     ]
    }
   ],
   "source": [
    "date_before = datetime.now()\n",
    "\n",
    "cursorIRIS.executemany(\"INSERT INTO Test.PurchaseOrderColumnar (Reference, Customer, PaymentDate, Vat, Amount, Status) VALUES (?, ?, ?, ?, ?, ?)\", parameters)\n",
    "connectionIRIS.commit()\n",
    "difference = datetime.now() - date_before\n",
    "print(difference.total_seconds())\n",
    "resultsIRISColumnar.append(difference.total_seconds())"
   ]
  },
  {
   "cell_type": "code",
   "execution_count": 30,
   "id": "eb61260a-ba53-4d95-a441-e0a3ed2429ce",
   "metadata": {},
   "outputs": [
    {
     "ename": "NameError",
     "evalue": "name 'datetime' is not defined",
     "output_type": "error",
     "traceback": [
      "\u001b[0;31m---------------------------------------------------------------------------\u001b[0m",
      "\u001b[0;31mNameError\u001b[0m                                 Traceback (most recent call last)",
      "Cell \u001b[0;32mIn[30], line 1\u001b[0m\n\u001b[0;32m----> 1\u001b[0m date_before \u001b[38;5;241m=\u001b[39m \u001b[43mdatetime\u001b[49m\u001b[38;5;241m.\u001b[39mnow()\n\u001b[1;32m      3\u001b[0m cursorIRIS\u001b[38;5;241m.\u001b[39mexecutemany(\u001b[38;5;124m\"\u001b[39m\u001b[38;5;124mINSERT INTO Test.PurchaseOrderRow (Reference, Customer, PaymentDate, Vat, Amount, Status) VALUES (?, ?, ?, ?, ?, ?)\u001b[39m\u001b[38;5;124m\"\u001b[39m, parameters)\n\u001b[1;32m      4\u001b[0m connectionIRIS\u001b[38;5;241m.\u001b[39mcommit()\n",
      "\u001b[0;31mNameError\u001b[0m: name 'datetime' is not defined"
     ]
    }
   ],
   "source": [
    "date_before = datetime.now()\n",
    "\n",
    "cursorIRIS.executemany(\"INSERT INTO Test.PurchaseOrderRow (Reference, Customer, PaymentDate, Vat, Amount, Status) VALUES (?, ?, ?, ?, ?, ?)\", parameters)\n",
    "connectionIRIS.commit()\n",
    "difference = datetime.now() - date_before\n",
    "print(difference.total_seconds())\n",
    "resultsIRISRow.append(difference.total_seconds())"
   ]
  },
  {
   "cell_type": "code",
   "execution_count": 31,
   "id": "9bc703b2-55c2-4a3f-9b6f-46ed82f47e28",
   "metadata": {},
   "outputs": [
    {
     "ename": "NameError",
     "evalue": "name 'datetime' is not defined",
     "output_type": "error",
     "traceback": [
      "\u001b[0;31m---------------------------------------------------------------------------\u001b[0m",
      "\u001b[0;31mNameError\u001b[0m                                 Traceback (most recent call last)",
      "Cell \u001b[0;32mIn[31], line 1\u001b[0m\n\u001b[0;32m----> 1\u001b[0m date_before \u001b[38;5;241m=\u001b[39m \u001b[43mdatetime\u001b[49m\u001b[38;5;241m.\u001b[39mnow()\n\u001b[1;32m      3\u001b[0m cursorIRIS\u001b[38;5;241m.\u001b[39mexecute(\u001b[38;5;124m\"\u001b[39m\u001b[38;5;124mSELECT AVG(Amount) FROM Test.PurchaseOrderColumnar WHERE Status = \u001b[39m\u001b[38;5;124m'\u001b[39m\u001b[38;5;124mSENT\u001b[39m\u001b[38;5;124m'\u001b[39m\u001b[38;5;124m\"\u001b[39m)\n\u001b[1;32m      4\u001b[0m purchaseOrders \u001b[38;5;241m=\u001b[39m cursorIRIS\u001b[38;5;241m.\u001b[39mfetchall()\n",
      "\u001b[0;31mNameError\u001b[0m: name 'datetime' is not defined"
     ]
    }
   ],
   "source": [
    "date_before = datetime.now()\n",
    "\n",
    "cursorIRIS.execute(\"SELECT AVG(Amount) FROM Test.PurchaseOrderColumnar WHERE Status = 'SENT'\")\n",
    "purchaseOrders = cursorIRIS.fetchall()\n",
    "difference = datetime.now() - date_before\n",
    "selectIRISColumnar.append(difference.total_seconds())\n",
    "print(difference.total_seconds())"
   ]
  },
  {
   "cell_type": "code",
   "execution_count": 32,
   "id": "b52cee1e-9c33-4566-bd62-1697168cba73",
   "metadata": {},
   "outputs": [
    {
     "ename": "NameError",
     "evalue": "name 'datetime' is not defined",
     "output_type": "error",
     "traceback": [
      "\u001b[0;31m---------------------------------------------------------------------------\u001b[0m",
      "\u001b[0;31mNameError\u001b[0m                                 Traceback (most recent call last)",
      "Cell \u001b[0;32mIn[32], line 1\u001b[0m\n\u001b[0;32m----> 1\u001b[0m date_before \u001b[38;5;241m=\u001b[39m \u001b[43mdatetime\u001b[49m\u001b[38;5;241m.\u001b[39mnow()\n\u001b[1;32m      3\u001b[0m cursorIRIS\u001b[38;5;241m.\u001b[39mexecute(\u001b[38;5;124m\"\u001b[39m\u001b[38;5;124mSELECT AVG(Amount) FROM Test.PurchaseOrderRow WHERE Status = \u001b[39m\u001b[38;5;124m'\u001b[39m\u001b[38;5;124mSENT\u001b[39m\u001b[38;5;124m'\u001b[39m\u001b[38;5;124m\"\u001b[39m)\n\u001b[1;32m      4\u001b[0m purchaseOrders \u001b[38;5;241m=\u001b[39m cursorIRIS\u001b[38;5;241m.\u001b[39mfetchall()\n",
      "\u001b[0;31mNameError\u001b[0m: name 'datetime' is not defined"
     ]
    }
   ],
   "source": [
    "date_before = datetime.now()\n",
    "\n",
    "cursorIRIS.execute(\"SELECT AVG(Amount) FROM Test.PurchaseOrderRow WHERE Status = 'SENT'\")\n",
    "purchaseOrders = cursorIRIS.fetchall()\n",
    "difference = datetime.now() - date_before\n",
    "selectIRISRow.append(difference.total_seconds())\n",
    "print(difference.total_seconds())"
   ]
  },
  {
   "cell_type": "code",
   "execution_count": 33,
   "id": "dae9ebab-79d7-41f4-af08-090f0ac22d61",
   "metadata": {},
   "outputs": [
    {
     "ename": "NameError",
     "evalue": "name 'connectionIRIS' is not defined",
     "output_type": "error",
     "traceback": [
      "\u001b[0;31m---------------------------------------------------------------------------\u001b[0m",
      "\u001b[0;31mNameError\u001b[0m                                 Traceback (most recent call last)",
      "Cell \u001b[0;32mIn[33], line 1\u001b[0m\n\u001b[0;32m----> 1\u001b[0m \u001b[43mconnectionIRIS\u001b[49m\u001b[38;5;241m.\u001b[39mclose()\n",
      "\u001b[0;31mNameError\u001b[0m: name 'connectionIRIS' is not defined"
     ]
    }
   ],
   "source": [
    "connectionIRIS.close()\n"
   ]
  },
  {
   "cell_type": "code",
   "execution_count": 34,
   "id": "6dfee5c2-d7ed-4375-919b-0c9da739b12c",
   "metadata": {},
   "outputs": [
    {
     "ename": "NameError",
     "evalue": "name 'plt' is not defined",
     "output_type": "error",
     "traceback": [
      "\u001b[0;31m---------------------------------------------------------------------------\u001b[0m",
      "\u001b[0;31mNameError\u001b[0m                                 Traceback (most recent call last)",
      "Cell \u001b[0;32mIn[34], line 2\u001b[0m\n\u001b[1;32m      1\u001b[0m x \u001b[38;5;241m=\u001b[39m [\u001b[38;5;241m0\u001b[39m, \u001b[38;5;241m1000\u001b[39m,\u001b[38;5;241m5000\u001b[39m,\u001b[38;5;241m20000\u001b[39m,\u001b[38;5;241m50000\u001b[39m,\u001b[38;5;241m100000\u001b[39m,\u001b[38;5;241m200000\u001b[39m]\n\u001b[0;32m----> 2\u001b[0m \u001b[43mplt\u001b[49m\u001b[38;5;241m.\u001b[39mplot(x, resultsIRISColumnar, label \u001b[38;5;241m=\u001b[39m \u001b[38;5;124m\"\u001b[39m\u001b[38;5;124mColumnar\u001b[39m\u001b[38;5;124m\"\u001b[39m)\n\u001b[1;32m      3\u001b[0m plt\u001b[38;5;241m.\u001b[39mplot(x, resultsIRISRow, label \u001b[38;5;241m=\u001b[39m \u001b[38;5;124m\"\u001b[39m\u001b[38;5;124mRow\u001b[39m\u001b[38;5;124m\"\u001b[39m)\n\u001b[1;32m      4\u001b[0m plt\u001b[38;5;241m.\u001b[39mlegend() \n",
      "\u001b[0;31mNameError\u001b[0m: name 'plt' is not defined"
     ]
    }
   ],
   "source": [
    "x = [0, 1000,5000,20000,50000,100000,200000]\n",
    "plt.plot(x, resultsIRISColumnar, label = \"Columnar\")\n",
    "plt.plot(x, resultsIRISRow, label = \"Row\")\n",
    "plt.legend() \n",
    "plt.show()"
   ]
  },
  {
   "cell_type": "code",
   "execution_count": 35,
   "id": "b09c775d-6efb-4087-961f-0a38472b54d6",
   "metadata": {},
   "outputs": [
    {
     "ename": "NameError",
     "evalue": "name 'plt' is not defined",
     "output_type": "error",
     "traceback": [
      "\u001b[0;31m---------------------------------------------------------------------------\u001b[0m",
      "\u001b[0;31mNameError\u001b[0m                                 Traceback (most recent call last)",
      "Cell \u001b[0;32mIn[35], line 2\u001b[0m\n\u001b[1;32m      1\u001b[0m x \u001b[38;5;241m=\u001b[39m [\u001b[38;5;241m0\u001b[39m, \u001b[38;5;241m1000\u001b[39m,\u001b[38;5;241m5000\u001b[39m,\u001b[38;5;241m20000\u001b[39m,\u001b[38;5;241m50000\u001b[39m,\u001b[38;5;241m100000\u001b[39m,\u001b[38;5;241m200000\u001b[39m]\n\u001b[0;32m----> 2\u001b[0m \u001b[43mplt\u001b[49m\u001b[38;5;241m.\u001b[39mplot(x, selectIRISColumnar, label \u001b[38;5;241m=\u001b[39m \u001b[38;5;124m\"\u001b[39m\u001b[38;5;124mColumnar\u001b[39m\u001b[38;5;124m\"\u001b[39m)\n\u001b[1;32m      3\u001b[0m plt\u001b[38;5;241m.\u001b[39mplot(x, selectIRISRow, label \u001b[38;5;241m=\u001b[39m \u001b[38;5;124m\"\u001b[39m\u001b[38;5;124mRow\u001b[39m\u001b[38;5;124m\"\u001b[39m)\n\u001b[1;32m      4\u001b[0m plt\u001b[38;5;241m.\u001b[39mlegend() \n",
      "\u001b[0;31mNameError\u001b[0m: name 'plt' is not defined"
     ]
    }
   ],
   "source": [
    "x = [0, 1000,5000,20000,50000,100000,200000]\n",
    "plt.plot(x, selectIRISColumnar, label = \"Columnar\")\n",
    "plt.plot(x, selectIRISRow, label = \"Row\")\n",
    "plt.legend() \n",
    "plt.show()"
   ]
  },
  {
   "cell_type": "code",
   "execution_count": null,
   "id": "e9d8ab82-210e-4a21-9825-272440fb1dd0",
   "metadata": {},
   "outputs": [],
   "source": []
  },
  {
   "cell_type": "code",
   "execution_count": null,
   "id": "30066138-eff3-4ba2-8864-3276ea8660c4",
   "metadata": {},
   "outputs": [],
   "source": []
  },
  {
   "cell_type": "code",
   "execution_count": null,
   "id": "6432c9d6-b630-4143-9dc6-18c79859cf2a",
   "metadata": {},
   "outputs": [],
   "source": []
  },
  {
   "cell_type": "code",
   "execution_count": null,
   "id": "7328faa4-1084-4cb1-adb3-9ede88cb8884",
   "metadata": {},
   "outputs": [],
   "source": []
  },
  {
   "cell_type": "code",
   "execution_count": null,
   "id": "c5d46b23-0eed-42ba-9625-4e5ebc3d62e7",
   "metadata": {},
   "outputs": [],
   "source": []
  },
  {
   "cell_type": "code",
   "execution_count": null,
   "id": "c69254a4-a40c-4217-b20a-63cfbc71bfb1",
   "metadata": {},
   "outputs": [],
   "source": []
  },
  {
   "cell_type": "code",
   "execution_count": null,
   "id": "9d13579a-6294-4197-9d64-4edc8fdabbd6",
   "metadata": {},
   "outputs": [],
   "source": []
  },
  {
   "cell_type": "code",
   "execution_count": null,
   "id": "6de7a821-6164-4956-8db9-030a1c7f91c5",
   "metadata": {},
   "outputs": [],
   "source": []
  },
  {
   "cell_type": "code",
   "execution_count": null,
   "id": "47bede5f-1fdd-454a-8af2-5094a98e258b",
   "metadata": {},
   "outputs": [],
   "source": []
  }
 ],
 "metadata": {
  "kernelspec": {
   "display_name": "Python 3 (ipykernel)",
   "language": "python",
   "name": "python3"
  },
  "language_info": {
   "codemirror_mode": {
    "name": "ipython",
    "version": 3
   },
   "file_extension": ".py",
   "mimetype": "text/x-python",
   "name": "python",
   "nbconvert_exporter": "python",
   "pygments_lexer": "ipython3",
   "version": "3.11.9"
  }
 },
 "nbformat": 4,
 "nbformat_minor": 5
}
