{
 "cells": [
  {
   "cell_type": "code",
   "execution_count": 3,
   "id": "9f7b5878-d158-4423-97d3-9baf3b4cfe1a",
   "metadata": {},
   "outputs": [
    {
     "ename": "Exception",
     "evalue": "Cannot find InterSystems IRIS installation directory\n    Please set IRISINSTALLDIR environment variable to the InterSystems IRIS installation directory",
     "output_type": "error",
     "traceback": [
      "\u001b[0;31m---------------------------------------------------------------------------\u001b[0m",
      "\u001b[0;31mException\u001b[0m                                 Traceback (most recent call last)",
      "Cell \u001b[0;32mIn[3], line 1\u001b[0m\n\u001b[0;32m----> 1\u001b[0m \u001b[38;5;28;01mimport\u001b[39;00m \u001b[38;5;21;01miris\u001b[39;00m\n\u001b[1;32m      2\u001b[0m \u001b[38;5;28;01mimport\u001b[39;00m \u001b[38;5;21;01mnumpy\u001b[39;00m \u001b[38;5;28;01mas\u001b[39;00m \u001b[38;5;21;01mnp\u001b[39;00m\n\u001b[1;32m      3\u001b[0m \u001b[38;5;28;01mimport\u001b[39;00m \u001b[38;5;21;01mnames\u001b[39;00m\n",
      "File \u001b[0;32m/opt/conda/lib/python3.11/site-packages/iris/__init__.py:10\u001b[0m\n\u001b[1;32m      8\u001b[0m installdir \u001b[38;5;241m=\u001b[39m os\u001b[38;5;241m.\u001b[39menviron\u001b[38;5;241m.\u001b[39mget(\u001b[38;5;124m'\u001b[39m\u001b[38;5;124mIRISINSTALLDIR\u001b[39m\u001b[38;5;124m'\u001b[39m) \u001b[38;5;129;01mor\u001b[39;00m os\u001b[38;5;241m.\u001b[39menviron\u001b[38;5;241m.\u001b[39mget(\u001b[38;5;124m'\u001b[39m\u001b[38;5;124mISC_PACKAGE_INSTALLDIR\u001b[39m\u001b[38;5;124m'\u001b[39m)\n\u001b[1;32m      9\u001b[0m \u001b[38;5;28;01mif\u001b[39;00m installdir \u001b[38;5;129;01mis\u001b[39;00m \u001b[38;5;28;01mNone\u001b[39;00m:\n\u001b[0;32m---> 10\u001b[0m         \u001b[38;5;28;01mraise\u001b[39;00m \u001b[38;5;167;01mException\u001b[39;00m(\u001b[38;5;124m\"\"\"\u001b[39m\u001b[38;5;124mCannot find InterSystems IRIS installation directory\u001b[39m\n\u001b[1;32m     11\u001b[0m \u001b[38;5;124m    Please set IRISINSTALLDIR environment variable to the InterSystems IRIS installation directory\u001b[39m\u001b[38;5;124m\"\"\"\u001b[39m)\n\u001b[1;32m     13\u001b[0m \u001b[38;5;66;03m# join the install dir with the bin directory\u001b[39;00m\n\u001b[1;32m     14\u001b[0m __syspath\u001b[38;5;241m.\u001b[39mappend(os\u001b[38;5;241m.\u001b[39mpath\u001b[38;5;241m.\u001b[39mjoin(installdir, \u001b[38;5;124m'\u001b[39m\u001b[38;5;124mbin\u001b[39m\u001b[38;5;124m'\u001b[39m))\n",
      "\u001b[0;31mException\u001b[0m: Cannot find InterSystems IRIS installation directory\n    Please set IRISINSTALLDIR environment variable to the InterSystems IRIS installation directory"
     ]
    }
   ],
   "source": [
    "import iris\n",
    "import numpy as np\n",
    "import names\n",
    "import matplotlib.pyplot as plt\n",
    "import random_address\n",
    "import datetime\n",
    "from datetime import datetime, timedelta\n",
    "import time\n",
    "import random\n",
    "from phone_gen import PhoneNumber"
   ]
  },
  {
   "cell_type": "code",
   "execution_count": 2,
   "id": "915cd2cb-059f-40b1-86b3-7ead09269b50",
   "metadata": {},
   "outputs": [
    {
     "name": "stdout",
     "output_type": "stream",
     "text": [
      "Connected\n"
     ]
    }
   ],
   "source": [
    "connection_string = \"iris:1972/IRISAPP\"\n",
    "username = \"superuser\"\n",
    "password = \"SYS\"\n",
    "\n",
    "connectionIRIS = iris.connect(connection_string, username, password)\n",
    "cursorIRIS = connectionIRIS.cursor()\n",
    "print(\"Connected\")"
   ]
  },
  {
   "cell_type": "code",
   "execution_count": 3,
   "id": "18f58761-fe27-4eec-b89a-07ec36f4e841",
   "metadata": {},
   "outputs": [
    {
     "name": "stdout",
     "output_type": "stream",
     "text": [
      "Parameters built\n"
     ]
    }
   ],
   "source": [
    "start_date = datetime.now()\n",
    "end_date = start_date + timedelta(days=10)\n",
    "phone_number = PhoneNumber(\"USA\")\n",
    "resultsIRISColumnar = [0]\n",
    "resultsIRISRow = [0]\n",
    "selectIRISColumnar = [0]\n",
    "selectIRISRow = [0]\n",
    "reference = 1\n",
    "\n",
    "parameters =  []\n",
    "for x in range(1000):\n",
    "    parameter = []\n",
    "    amount = random.uniform(1.0, 10000.0)\n",
    "    parameter.append(reference)\n",
    "    parameter.append(names.get_first_name()+' '+names.get_last_name())\n",
    "    parameter.append((start_date + (end_date - start_date) * random.random()).strftime('%Y-%m-%d %H:%M:%S'))\n",
    "    parameter.append(amount)\n",
    "    parameter.append(amount * 0.18)\n",
    "    parameter.append(random.choice(['EMITED','PAYED','SENT','RECEIVED']))\n",
    "    parameters.append(parameter)\n",
    "    reference += 1\n",
    "\n",
    "print(\"Parameters built\")"
   ]
  },
  {
   "cell_type": "code",
   "execution_count": 4,
   "id": "024658da-6266-4c7e-8a6a-b3558b4c282d",
   "metadata": {},
   "outputs": [
    {
     "name": "stdout",
     "output_type": "stream",
     "text": [
      "0.080023\n"
     ]
    }
   ],
   "source": [
    "date_before = datetime.now()\n",
    "\n",
    "cursorIRIS.executemany(\"INSERT INTO Test.PurchaseOrderColumnar (Reference, Customer, PaymentDate, Vat, Amount, Status) VALUES (?, ?, ?, ?, ?, ?)\", parameters)\n",
    "connectionIRIS.commit()\n",
    "difference = datetime.now() - date_before\n",
    "print(difference.total_seconds())\n",
    "resultsIRISColumnar.append(difference.total_seconds())"
   ]
  },
  {
   "cell_type": "code",
   "execution_count": 5,
   "id": "4aca0949",
   "metadata": {},
   "outputs": [
    {
     "name": "stdout",
     "output_type": "stream",
     "text": [
      "0.057205\n"
     ]
    }
   ],
   "source": [
    "date_before = datetime.now()\n",
    "\n",
    "cursorIRIS.executemany(\"INSERT INTO Test.PurchaseOrderRow (Reference, Customer, PaymentDate, Vat, Amount, Status) VALUES (?, ?, ?, ?, ?, ?)\", parameters)\n",
    "connectionIRIS.commit()\n",
    "difference = datetime.now() - date_before\n",
    "print(difference.total_seconds())\n",
    "resultsIRISRow.append(difference.total_seconds())"
   ]
  },
  {
   "cell_type": "code",
   "execution_count": 6,
   "id": "ab66dc80-0d6b-4ba2-b3b8-c81551d0be83",
   "metadata": {},
   "outputs": [
    {
     "name": "stdout",
     "output_type": "stream",
     "text": [
      "Parameters built\n"
     ]
    }
   ],
   "source": [
    "for x in range(4000):\n",
    "    parameter = []\n",
    "    amount = random.uniform(1.0, 10000.0)\n",
    "    parameter.append(reference)\n",
    "    parameter.append(names.get_first_name()+' '+names.get_last_name())\n",
    "    parameter.append((start_date + (end_date - start_date) * random.random()).strftime('%Y-%m-%d %H:%M:%S'))\n",
    "    parameter.append(amount)\n",
    "    parameter.append(amount * 0.18)\n",
    "    parameter.append(random.choice(['EMITED','PAYED','SENT','RECEIVED']))\n",
    "    parameters.append(parameter)\n",
    "    reference += 1\n",
    "    \n",
    "print(\"Parameters built\")"
   ]
  },
  {
   "cell_type": "code",
   "execution_count": 7,
   "id": "2fc4b89f-e980-4cd6-9e51-7894b205380a",
   "metadata": {},
   "outputs": [
    {
     "name": "stdout",
     "output_type": "stream",
     "text": [
      "0.159894\n"
     ]
    }
   ],
   "source": [
    "date_before = datetime.now()\n",
    "\n",
    "cursorIRIS.executemany(\"INSERT INTO Test.PurchaseOrderColumnar (Reference, Customer, PaymentDate, Vat, Amount, Status) VALUES (?, ?, ?, ?, ?, ?)\", parameters)\n",
    "connectionIRIS.commit()\n",
    "difference = datetime.now() - date_before\n",
    "print(difference.total_seconds())\n",
    "resultsIRISColumnar.append(difference.total_seconds())"
   ]
  },
  {
   "cell_type": "code",
   "execution_count": 8,
   "id": "ec944d4c",
   "metadata": {},
   "outputs": [
    {
     "name": "stdout",
     "output_type": "stream",
     "text": [
      "0.149253\n"
     ]
    }
   ],
   "source": [
    "date_before = datetime.now()\n",
    "\n",
    "cursorIRIS.executemany(\"INSERT INTO Test.PurchaseOrderRow (Reference, Customer, PaymentDate, Vat, Amount, Status) VALUES (?, ?, ?, ?, ?, ?)\", parameters)\n",
    "connectionIRIS.commit()\n",
    "difference = datetime.now() - date_before\n",
    "print(difference.total_seconds())\n",
    "resultsIRISRow.append(difference.total_seconds())"
   ]
  },
  {
   "cell_type": "code",
   "execution_count": 9,
   "id": "3781c085-8525-482f-a2f9-e968fbb80081",
   "metadata": {},
   "outputs": [
    {
     "name": "stdout",
     "output_type": "stream",
     "text": [
      "0.199234\n"
     ]
    }
   ],
   "source": [
    "date_before = datetime.now()\n",
    "\n",
    "cursorIRIS.execute(\"SELECT AVG(Amount) FROM Test.PurchaseOrderColumnar WHERE Status = 'SENT'\")\n",
    "purchaseOrders = cursorIRIS.fetchall()\n",
    "difference = datetime.now() - date_before\n",
    "selectIRISColumnar.append(difference.total_seconds())\n",
    "print(difference.total_seconds())"
   ]
  },
  {
   "cell_type": "code",
   "execution_count": 10,
   "id": "384db8f7-aa05-451d-8f21-c43362b3584b",
   "metadata": {},
   "outputs": [
    {
     "name": "stdout",
     "output_type": "stream",
     "text": [
      "0.187973\n"
     ]
    }
   ],
   "source": [
    "date_before = datetime.now()\n",
    "\n",
    "cursorIRIS.execute(\"SELECT AVG(Amount) FROM Test.PurchaseOrderRow WHERE Status = 'SENT'\")\n",
    "purchaseOrders = cursorIRIS.fetchall()\n",
    "difference = datetime.now() - date_before\n",
    "selectIRISRow.append(difference.total_seconds())\n",
    "print(difference.total_seconds())"
   ]
  },
  {
   "cell_type": "code",
   "execution_count": 11,
   "id": "1ad9caff-3c99-45f7-aeea-dfabed35e912",
   "metadata": {},
   "outputs": [
    {
     "name": "stdout",
     "output_type": "stream",
     "text": [
      "Parameters built\n"
     ]
    }
   ],
   "source": [
    "for x in range(15000):\n",
    "    parameter = []\n",
    "    amount = random.uniform(1.0, 10000.0)\n",
    "    parameter.append(reference)\n",
    "    parameter.append(names.get_first_name()+' '+names.get_last_name())\n",
    "    parameter.append((start_date + (end_date - start_date) * random.random()).strftime('%Y-%m-%d %H:%M:%S'))\n",
    "    parameter.append(amount)\n",
    "    parameter.append(amount * 0.18)\n",
    "    parameter.append(random.choice(['EMITED','PAYED','SENT','RECEIVED']))\n",
    "    parameters.append(parameter)\n",
    "    reference += 1\n",
    "\n",
    "print(\"Parameters built\")"
   ]
  },
  {
   "cell_type": "code",
   "execution_count": 12,
   "id": "a5b83d52-879d-4e60-9ce2-b32df9f1b30f",
   "metadata": {},
   "outputs": [
    {
     "name": "stdout",
     "output_type": "stream",
     "text": [
      "1.095535\n"
     ]
    }
   ],
   "source": [
    "date_before = datetime.now()\n",
    "\n",
    "cursorIRIS.executemany(\"INSERT INTO Test.PurchaseOrderColumnar (Reference, Customer, PaymentDate, Vat, Amount, Status) VALUES (?, ?, ?, ?, ?, ?)\", parameters)\n",
    "connectionIRIS.commit()\n",
    "difference = datetime.now() - date_before\n",
    "print(difference.total_seconds())\n",
    "resultsIRISColumnar.append(difference.total_seconds())"
   ]
  },
  {
   "cell_type": "code",
   "execution_count": 13,
   "id": "017a7cee",
   "metadata": {},
   "outputs": [
    {
     "name": "stdout",
     "output_type": "stream",
     "text": [
      "1.046802\n"
     ]
    }
   ],
   "source": [
    "date_before = datetime.now()\n",
    "\n",
    "cursorIRIS.executemany(\"INSERT INTO Test.PurchaseOrderRow (Reference, Customer, PaymentDate, Vat, Amount, Status) VALUES (?, ?, ?, ?, ?, ?)\", parameters)\n",
    "connectionIRIS.commit()\n",
    "difference = datetime.now() - date_before\n",
    "print(difference.total_seconds())\n",
    "resultsIRISRow.append(difference.total_seconds())"
   ]
  },
  {
   "cell_type": "code",
   "execution_count": 14,
   "id": "1b936fb6-a9c1-4ba8-a6db-dbdf6053fb85",
   "metadata": {},
   "outputs": [
    {
     "name": "stdout",
     "output_type": "stream",
     "text": [
      "0.000632\n"
     ]
    }
   ],
   "source": [
    "date_before = datetime.now()\n",
    "\n",
    "cursorIRIS.execute(\"SELECT AVG(Amount) FROM Test.PurchaseOrderColumnar WHERE Status = 'SENT'\")\n",
    "purchaseOrders = cursorIRIS.fetchall()\n",
    "difference = datetime.now() - date_before\n",
    "selectIRISColumnar.append(difference.total_seconds())\n",
    "print(difference.total_seconds())"
   ]
  },
  {
   "cell_type": "code",
   "execution_count": 15,
   "id": "1e8426ff-4ab6-4a14-b068-cdc381c5fc0c",
   "metadata": {},
   "outputs": [
    {
     "name": "stdout",
     "output_type": "stream",
     "text": [
      "0.007368\n"
     ]
    }
   ],
   "source": [
    "date_before = datetime.now()\n",
    "\n",
    "cursorIRIS.execute(\"SELECT AVG(Amount) FROM Test.PurchaseOrderRow WHERE Status = 'SENT'\")\n",
    "purchaseOrders = cursorIRIS.fetchall()\n",
    "difference = datetime.now() - date_before\n",
    "selectIRISRow.append(difference.total_seconds())\n",
    "print(difference.total_seconds())"
   ]
  },
  {
   "cell_type": "code",
   "execution_count": 16,
   "id": "f789b8b0-aa27-4143-9087-9528b744da1f",
   "metadata": {},
   "outputs": [
    {
     "ename": "KeyboardInterrupt",
     "evalue": "",
     "output_type": "error",
     "traceback": [
      "\u001b[0;31m---------------------------------------------------------------------------\u001b[0m",
      "\u001b[0;31mKeyboardInterrupt\u001b[0m                         Traceback (most recent call last)",
      "Cell \u001b[0;32mIn[16], line 5\u001b[0m\n\u001b[1;32m      3\u001b[0m amount \u001b[38;5;241m=\u001b[39m random\u001b[38;5;241m.\u001b[39muniform(\u001b[38;5;241m1.0\u001b[39m, \u001b[38;5;241m10000.0\u001b[39m)\n\u001b[1;32m      4\u001b[0m parameter\u001b[38;5;241m.\u001b[39mappend(reference)\n\u001b[0;32m----> 5\u001b[0m parameter\u001b[38;5;241m.\u001b[39mappend(names\u001b[38;5;241m.\u001b[39mget_first_name()\u001b[38;5;241m+\u001b[39m\u001b[38;5;124m'\u001b[39m\u001b[38;5;124m \u001b[39m\u001b[38;5;124m'\u001b[39m\u001b[38;5;241m+\u001b[39m\u001b[43mnames\u001b[49m\u001b[38;5;241;43m.\u001b[39;49m\u001b[43mget_last_name\u001b[49m\u001b[43m(\u001b[49m\u001b[43m)\u001b[49m)\n\u001b[1;32m      6\u001b[0m parameter\u001b[38;5;241m.\u001b[39mappend((start_date \u001b[38;5;241m+\u001b[39m (end_date \u001b[38;5;241m-\u001b[39m start_date) \u001b[38;5;241m*\u001b[39m random\u001b[38;5;241m.\u001b[39mrandom())\u001b[38;5;241m.\u001b[39mstrftime(\u001b[38;5;124m'\u001b[39m\u001b[38;5;124m%\u001b[39m\u001b[38;5;124mY-\u001b[39m\u001b[38;5;124m%\u001b[39m\u001b[38;5;124mm-\u001b[39m\u001b[38;5;132;01m%d\u001b[39;00m\u001b[38;5;124m \u001b[39m\u001b[38;5;124m%\u001b[39m\u001b[38;5;124mH:\u001b[39m\u001b[38;5;124m%\u001b[39m\u001b[38;5;124mM:\u001b[39m\u001b[38;5;124m%\u001b[39m\u001b[38;5;124mS\u001b[39m\u001b[38;5;124m'\u001b[39m))\n\u001b[1;32m      7\u001b[0m parameter\u001b[38;5;241m.\u001b[39mappend(amount)\n",
      "File \u001b[0;32m/opt/conda/lib/python3.11/site-packages/names/__init__.py:39\u001b[0m, in \u001b[0;36mget_last_name\u001b[0;34m()\u001b[0m\n\u001b[1;32m     38\u001b[0m \u001b[38;5;28;01mdef\u001b[39;00m \u001b[38;5;21mget_last_name\u001b[39m():\n\u001b[0;32m---> 39\u001b[0m     \u001b[38;5;28;01mreturn\u001b[39;00m \u001b[43mget_name\u001b[49m\u001b[43m(\u001b[49m\u001b[43mFILES\u001b[49m\u001b[43m[\u001b[49m\u001b[38;5;124;43m'\u001b[39;49m\u001b[38;5;124;43mlast\u001b[39;49m\u001b[38;5;124;43m'\u001b[39;49m\u001b[43m]\u001b[49m\u001b[43m)\u001b[49m\u001b[38;5;241m.\u001b[39mcapitalize()\n",
      "File \u001b[0;32m/opt/conda/lib/python3.11/site-packages/names/__init__.py:25\u001b[0m, in \u001b[0;36mget_name\u001b[0;34m(filename)\u001b[0m\n\u001b[1;32m     23\u001b[0m selected \u001b[38;5;241m=\u001b[39m random\u001b[38;5;241m.\u001b[39mrandom() \u001b[38;5;241m*\u001b[39m \u001b[38;5;241m90\u001b[39m\n\u001b[1;32m     24\u001b[0m \u001b[38;5;28;01mwith\u001b[39;00m \u001b[38;5;28mopen\u001b[39m(filename) \u001b[38;5;28;01mas\u001b[39;00m name_file:\n\u001b[0;32m---> 25\u001b[0m     \u001b[38;5;28;01mfor\u001b[39;00m line \u001b[38;5;129;01min\u001b[39;00m name_file:\n\u001b[1;32m     26\u001b[0m         name, _, cummulative, _ \u001b[38;5;241m=\u001b[39m line\u001b[38;5;241m.\u001b[39msplit()\n\u001b[1;32m     27\u001b[0m         \u001b[38;5;28;01mif\u001b[39;00m \u001b[38;5;28mfloat\u001b[39m(cummulative) \u001b[38;5;241m>\u001b[39m selected:\n",
      "File \u001b[0;32m<frozen codecs>:319\u001b[0m, in \u001b[0;36mdecode\u001b[0;34m(self, input, final)\u001b[0m\n",
      "\u001b[0;31mKeyboardInterrupt\u001b[0m: "
     ]
    }
   ],
   "source": [
    "for x in range(30000):\n",
    "    parameter = []\n",
    "    amount = random.uniform(1.0, 10000.0)\n",
    "    parameter.append(reference)\n",
    "    parameter.append(names.get_first_name()+' '+names.get_last_name())\n",
    "    parameter.append((start_date + (end_date - start_date) * random.random()).strftime('%Y-%m-%d %H:%M:%S'))\n",
    "    parameter.append(amount)\n",
    "    parameter.append(amount * 0.18)\n",
    "    parameter.append(random.choice(['EMITED','PAYED','SENT','RECEIVED']))\n",
    "    parameters.append(parameter)\n",
    "    reference += 1\n",
    "\n",
    "print(\"Parameters built\")"
   ]
  },
  {
   "cell_type": "code",
   "execution_count": null,
   "id": "ca015bbf-0625-4253-932b-2fc4826ba735",
   "metadata": {},
   "outputs": [],
   "source": [
    "date_before = datetime.now()\n",
    "\n",
    "cursorIRIS.executemany(\"INSERT INTO Test.PurchaseOrderColumnar (Reference, Customer, PaymentDate, Vat, Amount, Status) VALUES (?, ?, ?, ?, ?, ?)\", parameters)\n",
    "connectionIRIS.commit()\n",
    "difference = datetime.now() - date_before\n",
    "print(difference.total_seconds())\n",
    "resultsIRISColumnar.append(difference.total_seconds())"
   ]
  },
  {
   "cell_type": "code",
   "execution_count": null,
   "id": "8825cc53-750c-4eea-84c1-830063c3522b",
   "metadata": {},
   "outputs": [],
   "source": [
    "date_before = datetime.now()\n",
    "\n",
    "cursorIRIS.execute(\"SELECT AVG(Amount) FROM Test.PurchaseOrderColumnar WHERE Status = 'SENT'\")\n",
    "purchaseOrders = cursorIRIS.fetchall()\n",
    "difference = datetime.now() - date_before\n",
    "selectIRISColumnar.append(difference.total_seconds())\n",
    "print(difference.total_seconds())"
   ]
  },
  {
   "cell_type": "code",
   "execution_count": null,
   "id": "280d833f-2b23-4401-a101-55448d192903",
   "metadata": {},
   "outputs": [],
   "source": [
    "date_before = datetime.now()\n",
    "\n",
    "cursorIRIS.execute(\"SELECT AVG(Amount) FROM Test.PurchaseOrderRow WHERE Status = 'SENT'\")\n",
    "purchaseOrders = cursorIRIS.fetchall()\n",
    "difference = datetime.now() - date_before\n",
    "selectIRISRow.append(difference.total_seconds())\n",
    "print(difference.total_seconds())"
   ]
  },
  {
   "cell_type": "code",
   "execution_count": null,
   "id": "b8bdeca0",
   "metadata": {},
   "outputs": [],
   "source": [
    "date_before = datetime.now()\n",
    "\n",
    "cursorIRIS.executemany(\"INSERT INTO Test.PurchaseOrderRow (Reference, Customer, PaymentDate, Vat, Amount, Status) VALUES (?, ?, ?, ?, ?, ?)\", parameters)\n",
    "connectionIRIS.commit()\n",
    "difference = datetime.now() - date_before\n",
    "print(difference.total_seconds())\n",
    "resultsIRISRow.append(difference.total_seconds())"
   ]
  },
  {
   "cell_type": "code",
   "execution_count": null,
   "id": "34529066-02cf-47f8-8969-e8e5c933be9c",
   "metadata": {},
   "outputs": [],
   "source": [
    "date_before = datetime.now()\n",
    "\n",
    "cursorIRIS.execute(\"SELECT AVG(Amount) FROM Test.PurchaseOrderColumnar WHERE Status = 'SENT'\")\n",
    "purchaseOrders = cursorIRIS.fetchall()\n",
    "difference = datetime.now() - date_before\n",
    "selectIRISColumnar.append(difference.total_seconds())\n",
    "print(difference.total_seconds())"
   ]
  },
  {
   "cell_type": "code",
   "execution_count": null,
   "id": "661fdd17",
   "metadata": {},
   "outputs": [],
   "source": [
    "date_before = datetime.now()\n",
    "\n",
    "cursorIRIS.execute(\"SELECT AVG(Amount) FROM Test.PurchaseOrderRow WHERE Status = 'SENT'\")\n",
    "purchaseOrders = cursorIRIS.fetchall()\n",
    "difference = datetime.now() - date_before\n",
    "selectIRISRow.append(difference.total_seconds())\n",
    "print(difference.total_seconds())"
   ]
  },
  {
   "cell_type": "code",
   "execution_count": null,
   "id": "2ae0e104-40cb-4adb-874c-17c2ca06f1a2",
   "metadata": {},
   "outputs": [],
   "source": [
    "parameters = parameters + parameters"
   ]
  },
  {
   "cell_type": "code",
   "execution_count": null,
   "id": "0afe0fb5-7fb8-4e5e-ae57-f26e65c8e1ef",
   "metadata": {},
   "outputs": [],
   "source": [
    "date_before = datetime.now()\n",
    "\n",
    "cursorIRIS.executemany(\"INSERT INTO Test.PurchaseOrderColumnar (Reference, Customer, PaymentDate, Vat, Amount, Status) VALUES (?, ?, ?, ?, ?, ?)\", parameters)\n",
    "connectionIRIS.commit()\n",
    "difference = datetime.now() - date_before\n",
    "print(difference.total_seconds())\n",
    "resultsIRISColumnar.append(difference.total_seconds())"
   ]
  },
  {
   "cell_type": "code",
   "execution_count": null,
   "id": "354dfd92-af74-4616-ba8c-094c753e0438",
   "metadata": {},
   "outputs": [],
   "source": [
    "date_before = datetime.now()\n",
    "\n",
    "cursorIRIS.executemany(\"INSERT INTO Test.PurchaseOrderRow (Reference, Customer, PaymentDate, Vat, Amount, Status) VALUES (?, ?, ?, ?, ?, ?)\", parameters)\n",
    "connectionIRIS.commit()\n",
    "difference = datetime.now() - date_before\n",
    "print(difference.total_seconds())\n",
    "resultsIRISRow.append(difference.total_seconds())"
   ]
  },
  {
   "cell_type": "code",
   "execution_count": null,
   "id": "f3e53383-b8ad-457d-855d-80cda1544938",
   "metadata": {},
   "outputs": [],
   "source": [
    "date_before = datetime.now()\n",
    "\n",
    "cursorIRIS.execute(\"SELECT AVG(Amount) FROM Test.PurchaseOrderColumnar WHERE Status = 'SENT'\")\n",
    "purchaseOrders = cursorIRIS.fetchall()\n",
    "difference = datetime.now() - date_before\n",
    "selectIRISColumnar.append(difference.total_seconds())\n",
    "print(difference.total_seconds())"
   ]
  },
  {
   "cell_type": "code",
   "execution_count": null,
   "id": "e0919264-04a7-4252-ac07-8df50d9f365a",
   "metadata": {},
   "outputs": [],
   "source": [
    "date_before = datetime.now()\n",
    "\n",
    "cursorIRIS.execute(\"SELECT AVG(Amount) FROM Test.PurchaseOrderRow WHERE Status = 'SENT'\")\n",
    "purchaseOrders = cursorIRIS.fetchall()\n",
    "difference = datetime.now() - date_before\n",
    "selectIRISRow.append(difference.total_seconds())\n",
    "print(difference.total_seconds())"
   ]
  },
  {
   "cell_type": "code",
   "execution_count": null,
   "id": "cee299db-3790-455c-8347-40a5ac2e6ba9",
   "metadata": {},
   "outputs": [],
   "source": [
    "parameters = parameters + parameters"
   ]
  },
  {
   "cell_type": "code",
   "execution_count": null,
   "id": "34fdc38c-02df-4df3-8ae5-6d464855a9a3",
   "metadata": {},
   "outputs": [],
   "source": [
    "date_before = datetime.now()\n",
    "\n",
    "cursorIRIS.executemany(\"INSERT INTO Test.PurchaseOrderColumnar (Reference, Customer, PaymentDate, Vat, Amount, Status) VALUES (?, ?, ?, ?, ?, ?)\", parameters)\n",
    "connectionIRIS.commit()\n",
    "difference = datetime.now() - date_before\n",
    "print(difference.total_seconds())\n",
    "resultsIRISColumnar.append(difference.total_seconds())"
   ]
  },
  {
   "cell_type": "code",
   "execution_count": null,
   "id": "eb61260a-ba53-4d95-a441-e0a3ed2429ce",
   "metadata": {},
   "outputs": [],
   "source": [
    "date_before = datetime.now()\n",
    "\n",
    "cursorIRIS.executemany(\"INSERT INTO Test.PurchaseOrderRow (Reference, Customer, PaymentDate, Vat, Amount, Status) VALUES (?, ?, ?, ?, ?, ?)\", parameters)\n",
    "connectionIRIS.commit()\n",
    "difference = datetime.now() - date_before\n",
    "print(difference.total_seconds())\n",
    "resultsIRISRow.append(difference.total_seconds())"
   ]
  },
  {
   "cell_type": "code",
   "execution_count": null,
   "id": "9bc703b2-55c2-4a3f-9b6f-46ed82f47e28",
   "metadata": {},
   "outputs": [],
   "source": [
    "date_before = datetime.now()\n",
    "\n",
    "cursorIRIS.execute(\"SELECT AVG(Amount) FROM Test.PurchaseOrderColumnar WHERE Status = 'SENT'\")\n",
    "purchaseOrders = cursorIRIS.fetchall()\n",
    "difference = datetime.now() - date_before\n",
    "selectIRISColumnar.append(difference.total_seconds())\n",
    "print(difference.total_seconds())"
   ]
  },
  {
   "cell_type": "code",
   "execution_count": null,
   "id": "b52cee1e-9c33-4566-bd62-1697168cba73",
   "metadata": {},
   "outputs": [],
   "source": [
    "date_before = datetime.now()\n",
    "\n",
    "cursorIRIS.execute(\"SELECT AVG(Amount) FROM Test.PurchaseOrderRow WHERE Status = 'SENT'\")\n",
    "purchaseOrders = cursorIRIS.fetchall()\n",
    "difference = datetime.now() - date_before\n",
    "selectIRISRow.append(difference.total_seconds())\n",
    "print(difference.total_seconds())"
   ]
  },
  {
   "cell_type": "code",
   "execution_count": null,
   "id": "dae9ebab-79d7-41f4-af08-090f0ac22d61",
   "metadata": {},
   "outputs": [],
   "source": [
    "connectionIRIS.close()\n"
   ]
  },
  {
   "cell_type": "code",
   "execution_count": 1,
   "id": "6dfee5c2-d7ed-4375-919b-0c9da739b12c",
   "metadata": {},
   "outputs": [
    {
     "ename": "NameError",
     "evalue": "name 'plt' is not defined",
     "output_type": "error",
     "traceback": [
      "\u001b[0;31m---------------------------------------------------------------------------\u001b[0m",
      "\u001b[0;31mNameError\u001b[0m                                 Traceback (most recent call last)",
      "Cell \u001b[0;32mIn[1], line 2\u001b[0m\n\u001b[1;32m      1\u001b[0m x \u001b[38;5;241m=\u001b[39m [\u001b[38;5;241m0\u001b[39m, \u001b[38;5;241m1000\u001b[39m,\u001b[38;5;241m5000\u001b[39m,\u001b[38;5;241m20000\u001b[39m,\u001b[38;5;241m50000\u001b[39m,\u001b[38;5;241m100000\u001b[39m,\u001b[38;5;241m200000\u001b[39m]\n\u001b[0;32m----> 2\u001b[0m \u001b[43mplt\u001b[49m\u001b[38;5;241m.\u001b[39mplot(x, resultsIRISColumnar, label \u001b[38;5;241m=\u001b[39m \u001b[38;5;124m\"\u001b[39m\u001b[38;5;124mColumnar\u001b[39m\u001b[38;5;124m\"\u001b[39m)\n\u001b[1;32m      3\u001b[0m plt\u001b[38;5;241m.\u001b[39mplot(x, resultsIRISRow, label \u001b[38;5;241m=\u001b[39m \u001b[38;5;124m\"\u001b[39m\u001b[38;5;124mRow\u001b[39m\u001b[38;5;124m\"\u001b[39m)\n\u001b[1;32m      4\u001b[0m plt\u001b[38;5;241m.\u001b[39mlegend() \n",
      "\u001b[0;31mNameError\u001b[0m: name 'plt' is not defined"
     ]
    }
   ],
   "source": [
    "x = [0, 1000,5000,20000,50000,100000,200000]\n",
    "plt.plot(x, resultsIRISColumnar, label = \"Columnar\")\n",
    "plt.plot(x, resultsIRISRow, label = \"Row\")\n",
    "plt.legend() \n",
    "plt.show()"
   ]
  },
  {
   "cell_type": "code",
   "execution_count": 2,
   "id": "b09c775d-6efb-4087-961f-0a38472b54d6",
   "metadata": {},
   "outputs": [
    {
     "ename": "NameError",
     "evalue": "name 'plt' is not defined",
     "output_type": "error",
     "traceback": [
      "\u001b[0;31m---------------------------------------------------------------------------\u001b[0m",
      "\u001b[0;31mNameError\u001b[0m                                 Traceback (most recent call last)",
      "Cell \u001b[0;32mIn[2], line 2\u001b[0m\n\u001b[1;32m      1\u001b[0m x \u001b[38;5;241m=\u001b[39m [\u001b[38;5;241m0\u001b[39m, \u001b[38;5;241m1000\u001b[39m,\u001b[38;5;241m5000\u001b[39m,\u001b[38;5;241m20000\u001b[39m,\u001b[38;5;241m50000\u001b[39m,\u001b[38;5;241m100000\u001b[39m,\u001b[38;5;241m200000\u001b[39m]\n\u001b[0;32m----> 2\u001b[0m \u001b[43mplt\u001b[49m\u001b[38;5;241m.\u001b[39mplot(x, selectIRISColumnar, label \u001b[38;5;241m=\u001b[39m \u001b[38;5;124m\"\u001b[39m\u001b[38;5;124mColumnar\u001b[39m\u001b[38;5;124m\"\u001b[39m)\n\u001b[1;32m      3\u001b[0m plt\u001b[38;5;241m.\u001b[39mplot(x, selectIRISRow, label \u001b[38;5;241m=\u001b[39m \u001b[38;5;124m\"\u001b[39m\u001b[38;5;124mRow\u001b[39m\u001b[38;5;124m\"\u001b[39m)\n\u001b[1;32m      4\u001b[0m plt\u001b[38;5;241m.\u001b[39mlegend() \n",
      "\u001b[0;31mNameError\u001b[0m: name 'plt' is not defined"
     ]
    }
   ],
   "source": [
    "x = [0, 1000,5000,20000,50000,100000,200000]\n",
    "plt.plot(x, selectIRISColumnar, label = \"Columnar\")\n",
    "plt.plot(x, selectIRISRow, label = \"Row\")\n",
    "plt.legend() \n",
    "plt.show()"
   ]
  },
  {
   "cell_type": "code",
   "execution_count": null,
   "id": "e9d8ab82-210e-4a21-9825-272440fb1dd0",
   "metadata": {},
   "outputs": [],
   "source": []
  },
  {
   "cell_type": "code",
   "execution_count": null,
   "id": "30066138-eff3-4ba2-8864-3276ea8660c4",
   "metadata": {},
   "outputs": [],
   "source": []
  },
  {
   "cell_type": "code",
   "execution_count": null,
   "id": "6432c9d6-b630-4143-9dc6-18c79859cf2a",
   "metadata": {},
   "outputs": [],
   "source": []
  }
 ],
 "metadata": {
  "kernelspec": {
   "display_name": "Python 3 (ipykernel)",
   "language": "python",
   "name": "python3"
  },
  "language_info": {
   "codemirror_mode": {
    "name": "ipython",
    "version": 3
   },
   "file_extension": ".py",
   "mimetype": "text/x-python",
   "name": "python",
   "nbconvert_exporter": "python",
   "pygments_lexer": "ipython3",
   "version": "3.11.9"
  }
 },
 "nbformat": 4,
 "nbformat_minor": 5
}
