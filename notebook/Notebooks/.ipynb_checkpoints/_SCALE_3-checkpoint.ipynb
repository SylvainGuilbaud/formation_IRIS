{
 "cells": [
  {
   "cell_type": "code",
   "execution_count": 1,
   "id": "353a3e97-be89-40ad-9a5b-82841243d378",
   "metadata": {},
   "outputs": [
    {
     "name": "stderr",
     "output_type": "stream",
     "text": [
      "/tmp/ipykernel_120/2493069104.py:40: FutureWarning: The default value of observed=False is deprecated and will change to observed=True in a future version of pandas. Specify observed=False to silence this warning and retain the current behavior\n",
      "  pivot_table = df.pivot_table(index='Deviation Category', columns='Observed LT Category', aggfunc='size', fill_value=0)\n"
     ]
    },
    {
     "ename": "ModuleNotFoundError",
     "evalue": "No module named 'ace_tools'",
     "output_type": "error",
     "traceback": [
      "\u001b[0;31m---------------------------------------------------------------------------\u001b[0m",
      "\u001b[0;31mModuleNotFoundError\u001b[0m                       Traceback (most recent call last)",
      "Cell \u001b[0;32mIn[1], line 43\u001b[0m\n\u001b[1;32m     40\u001b[0m pivot_table \u001b[38;5;241m=\u001b[39m df\u001b[38;5;241m.\u001b[39mpivot_table(index\u001b[38;5;241m=\u001b[39m\u001b[38;5;124m'\u001b[39m\u001b[38;5;124mDeviation Category\u001b[39m\u001b[38;5;124m'\u001b[39m, columns\u001b[38;5;241m=\u001b[39m\u001b[38;5;124m'\u001b[39m\u001b[38;5;124mObserved LT Category\u001b[39m\u001b[38;5;124m'\u001b[39m, aggfunc\u001b[38;5;241m=\u001b[39m\u001b[38;5;124m'\u001b[39m\u001b[38;5;124msize\u001b[39m\u001b[38;5;124m'\u001b[39m, fill_value\u001b[38;5;241m=\u001b[39m\u001b[38;5;241m0\u001b[39m)\n\u001b[1;32m     42\u001b[0m \u001b[38;5;66;03m# Display the data (optional, use ace_tools if necessary)\u001b[39;00m\n\u001b[0;32m---> 43\u001b[0m \u001b[38;5;28;01mimport\u001b[39;00m \u001b[38;5;21;01mace_tools\u001b[39;00m \u001b[38;5;28;01mas\u001b[39;00m \u001b[38;5;21;01mtools\u001b[39;00m; \n\u001b[1;32m     44\u001b[0m tools\u001b[38;5;241m.\u001b[39mdisplay_dataframe_to_user(name\u001b[38;5;241m=\u001b[39m\u001b[38;5;124m'\u001b[39m\u001b[38;5;124mLead Time Deviation Data\u001b[39m\u001b[38;5;124m'\u001b[39m, dataframe\u001b[38;5;241m=\u001b[39mpivot_table)\n\u001b[1;32m     46\u001b[0m \u001b[38;5;66;03m# Plotting\u001b[39;00m\n",
      "\u001b[0;31mModuleNotFoundError\u001b[0m: No module named 'ace_tools'"
     ]
    }
   ],
   "source": [
    "import numpy as np\n",
    "import pandas as pd\n",
    "import matplotlib.pyplot as plt\n",
    "\n",
    "# Constants\n",
    "num_pieces = 1000\n",
    "observed_lt_min = 5\n",
    "observed_lt_max = 50\n",
    "random_lt_min = -10\n",
    "random_lt_max = 15\n",
    "\n",
    "# Generate data\n",
    "np.random.seed(0)  # For reproducibility\n",
    "observed_lt = np.random.randint(observed_lt_min, observed_lt_max, num_pieces)\n",
    "theoretical_lt = observed_lt + np.random.randint(random_lt_min, random_lt_max, num_pieces)\n",
    "\n",
    "# Calculate percentage deviation\n",
    "percent_deviation = ((theoretical_lt - observed_lt) / observed_lt) * 100\n",
    "\n",
    "# Categorize deviations\n",
    "categories = ['<-50%', '-50% to -25%', '-25% to 0%', '0% to 25%', '25% to 50%', '50% to 100%', '>100%']\n",
    "percent_bins = [-np.inf, -50, -25, 0, 25, 50, 100, np.inf]\n",
    "deviation_categories = pd.cut(percent_deviation, bins=percent_bins, labels=categories)\n",
    "\n",
    "# Categorize observed lead times\n",
    "lt_intervals = ['[0:10]', '[10:30]', '[30:60]', '[60:120]', '[120:]']\n",
    "lt_bins = [0, 10, 30, 60, 120, np.inf]\n",
    "observed_lt_categories = pd.cut(observed_lt, bins=lt_bins, labels=lt_intervals)\n",
    "\n",
    "# Create dataframe\n",
    "df = pd.DataFrame({\n",
    "    'Observed LT': observed_lt,\n",
    "    'Theoretical LT': theoretical_lt,\n",
    "    'Percent Deviation': percent_deviation,\n",
    "    'Deviation Category': deviation_categories,\n",
    "    'Observed LT Category': observed_lt_categories\n",
    "})\n",
    "\n",
    "# Count the number of pieces in each category\n",
    "pivot_table = df.pivot_table(index='Deviation Category', columns='Observed LT Category', aggfunc='size', fill_value=0)\n",
    "\n",
    "# Display the data (optional, use ace_tools if necessary)\n",
    "import ace_tools as tools; \n",
    "tools.display_dataframe_to_user(name='Lead Time Deviation Data', dataframe=pivot_table)\n",
    "\n",
    "# Plotting\n",
    "fig, ax = plt.subplots(figsize=(12, 8))\n",
    "\n",
    "# Define colors for each lead time interval\n",
    "colors = {\n",
    "    '[0:10]': 'skyblue',\n",
    "    '[10:30]': 'orange',\n",
    "    '[30:60]': 'lightgreen',\n",
    "    '[60:120]': 'yellow',\n",
    "    '[120:]': 'red'\n",
    "}\n",
    "\n",
    "# Plot each interval as a stacked bar\n",
    "bottom = np.zeros(len(pivot_table))\n",
    "for interval in lt_intervals:\n",
    "    values = pivot_table[interval].values if interval in pivot_table else [0] * len(pivot_table)\n",
    "    ax.barh(pivot_table.index, values, left=bottom, color=colors[interval], edgecolor='black', label=interval)\n",
    "    bottom += values\n",
    "\n",
    "# Add labels and title\n",
    "ax.set_xlabel('Number of Pieces')\n",
    "ax.set_ylabel('Deviation Category')\n",
    "ax.set_title('Lead Time Deviation Categories and Observed Lead Time Intervals')\n",
    "ax.legend(title='Observed LT Intervals')\n",
    "\n",
    "# Display plot\n",
    "plt.tight_layout()\n",
    "plt.show()\n"
   ]
  },
  {
   "cell_type": "code",
   "execution_count": null,
   "id": "0835b21f-e758-4212-9273-3bb69dc4a7b1",
   "metadata": {},
   "outputs": [],
   "source": []
  }
 ],
 "metadata": {
  "kernelspec": {
   "display_name": "Python 3 (ipykernel)",
   "language": "python",
   "name": "python3"
  },
  "language_info": {
   "codemirror_mode": {
    "name": "ipython",
    "version": 3
   },
   "file_extension": ".py",
   "mimetype": "text/x-python",
   "name": "python",
   "nbconvert_exporter": "python",
   "pygments_lexer": "ipython3",
   "version": "3.11.9"
  }
 },
 "nbformat": 4,
 "nbformat_minor": 5
}
