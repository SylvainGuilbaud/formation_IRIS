{
 "cells": [
  {
   "cell_type": "markdown",
   "id": "672406ec-80f8-4c27-977f-6f2b4b9f981c",
   "metadata": {},
   "source": [
    "# Création dynamique d'un message HL7 à partir d'IRIS Embedded Python\n"
   ]
  },
  {
   "cell_type": "code",
   "execution_count": 1,
   "id": "04db9477-65c0-43a3-b66d-c2822f893c09",
   "metadata": {},
   "outputs": [
    {
     "ename": "ModuleNotFoundError",
     "evalue": "No module named 'pythonint'",
     "output_type": "error",
     "traceback": [
      "\u001b[0;31m---------------------------------------------------------------------------\u001b[0m",
      "\u001b[0;31mModuleNotFoundError\u001b[0m                       Traceback (most recent call last)",
      "Cell \u001b[0;32mIn[1], line 4\u001b[0m\n\u001b[1;32m      2\u001b[0m \u001b[38;5;28;01mimport\u001b[39;00m \u001b[38;5;21;01mdatetime\u001b[39;00m \u001b[38;5;28;01mas\u001b[39;00m \u001b[38;5;21;01mdt\u001b[39;00m\n\u001b[1;32m      3\u001b[0m \u001b[38;5;28;01mimport\u001b[39;00m \u001b[38;5;21;01muuid\u001b[39;00m\n\u001b[0;32m----> 4\u001b[0m \u001b[38;5;28;01mimport\u001b[39;00m \u001b[38;5;21;01miris\u001b[39;00m\n\u001b[1;32m      6\u001b[0m \u001b[38;5;66;03m# L'heure actuelle du cache est exprimée au format AAAAMMJJHHMMss.\u001b[39;00m\n\u001b[1;32m      7\u001b[0m hl7_datetime_now\u001b[38;5;241m=\u001b[39mdt\u001b[38;5;241m.\u001b[39mdatetime\u001b[38;5;241m.\u001b[39mnow()\u001b[38;5;241m.\u001b[39mstrftime(\u001b[38;5;124m'\u001b[39m\u001b[38;5;124m%\u001b[39m\u001b[38;5;124mY\u001b[39m\u001b[38;5;124m%\u001b[39m\u001b[38;5;124mm\u001b[39m\u001b[38;5;132;01m%d\u001b[39;00m\u001b[38;5;124m%\u001b[39m\u001b[38;5;124mH\u001b[39m\u001b[38;5;124m%\u001b[39m\u001b[38;5;124mM\u001b[39m\u001b[38;5;124m%\u001b[39m\u001b[38;5;124mS\u001b[39m\u001b[38;5;124m'\u001b[39m)\n",
      "File \u001b[0;32m/opt/conda/lib/python3.11/site-packages/iris/__init__.py:18\u001b[0m\n\u001b[1;32m     15\u001b[0m \u001b[38;5;66;03m# also append lib/python\u001b[39;00m\n\u001b[1;32m     16\u001b[0m __syspath\u001b[38;5;241m.\u001b[39mappend(os\u001b[38;5;241m.\u001b[39mpath\u001b[38;5;241m.\u001b[39mjoin(installdir, \u001b[38;5;124m'\u001b[39m\u001b[38;5;124mlib\u001b[39m\u001b[38;5;124m'\u001b[39m, \u001b[38;5;124m'\u001b[39m\u001b[38;5;124mpython\u001b[39m\u001b[38;5;124m'\u001b[39m))\n\u001b[0;32m---> 18\u001b[0m \u001b[38;5;28;01mfrom\u001b[39;00m \u001b[38;5;21;01mpythonint\u001b[39;00m \u001b[38;5;28;01mimport\u001b[39;00m \u001b[38;5;241m*\u001b[39m\n\u001b[1;32m     20\u001b[0m \u001b[38;5;66;03m# TODO: Figure out how to hide __syspath and __ospath from anyone that\u001b[39;00m\n\u001b[1;32m     21\u001b[0m \u001b[38;5;66;03m#       imports iris.  Tried __all__ but that only applies to this:\u001b[39;00m\n\u001b[1;32m     22\u001b[0m \u001b[38;5;66;03m#           from iris import *\u001b[39;00m\n\u001b[0;32m   (...)\u001b[0m\n\u001b[1;32m     25\u001b[0m \u001b[38;5;66;03m# End-of-file\u001b[39;00m\n\u001b[1;32m     26\u001b[0m \u001b[38;5;66;03m#\u001b[39;00m\n",
      "\u001b[0;31mModuleNotFoundError\u001b[0m: No module named 'pythonint'"
     ]
    }
   ],
   "source": [
    "#Chargement des dépendances\n",
    "import datetime as dt\n",
    "import uuid\n",
    "import iris\n",
    "\n",
    "# L'heure actuelle du cache est exprimée au format AAAAMMJJHHMMss.\n",
    "hl7_datetime_now=dt.datetime.now().strftime('%Y%m%d%H%M%S')\n",
    "\n",
    "# Création d'un message HL7\n",
    "hl7=iris.cls(\"EnsLib.HL7.Message\")._New()\n",
    "\n",
    "# Définition du type de document\n",
    "# 2.5.1:ORU_R01 - Envoi non sollicité d'un message d'observation\n",
    "hl7.PokeDocType(\"2.5.1:ORU_R01\")"
   ]
  },
  {
   "cell_type": "markdown",
   "id": "1976f1d2-e0d3-42d8-95f1-88298c539b52",
   "metadata": {},
   "source": [
    "# Création dynamique d'un message HL7 à partir d'IRIS Embedded Python\n"
   ]
  },
  {
   "cell_type": "code",
   "execution_count": null,
   "id": "0b4652d4-1efb-467d-8380-755995383a82",
   "metadata": {},
   "outputs": [],
   "source": [
    "// Segment MSH\n",
    "hl7.SetValueAt('OutApp','MSH:SendingApplication')\n",
    "hl7.SetValueAt('OutFac','MSH:SendingFacility')\n",
    "hl7.SetValueAt('InApp','MSH:ReceivingApplication')\n",
    "hl7.SetValueAt('InFac','MSH:ReceivingFacility')\n",
    "hl7.SetValueAt(hl7_datetime_now,'MSH:DateTimeOfMessage')\n",
    "hl7.SetValueAt('ORU','MSH:MessageType.MessageCode')\n",
    "hl7.SetValueAt('R01','MSH:MessageType.TriggerEvent')\n",
    "hl7.SetValueAt('ORU_R01','MSH:MessageType.MessageStructure')\n",
    "hl7.SetValueAt(str(uuid.uuid4()),'MSH:MessageControlID')\n",
    "hl7.SetValueAt('2.5.1','MSH:ProcessingID')"
   ]
  },
  {
   "cell_type": "code",
   "execution_count": null,
   "id": "3b3ce88d-634e-402e-a5dd-f11a418388bc",
   "metadata": {},
   "outputs": [],
   "source": [
    "hl7.SetValueAt(msh.Escape(r\"a&b~c^d\"),'MSH:ReceivingFacility')\n"
   ]
  },
  {
   "cell_type": "markdown",
   "id": "705f46bd-14df-4de6-bf06-44d1f9861c26",
   "metadata": {},
   "source": [
    "## Segment démographique (PID)\n"
   ]
  },
  {
   "cell_type": "code",
   "execution_count": null,
   "id": "2918aa0e-016e-46e5-9c5b-e0a485cbd057",
   "metadata": {},
   "outputs": [],
   "source": [
    "# Préfixe du chemin virtuel pour l'identifiant PID\n",
    "seg='PIDgrpgrp(1).PIDgrp.PID:'\n",
    "hl7.SetValueAt('1',seg+'SetIDPID')\n",
    "hl7.SetValueAt('12345',seg+'PatientIdentifierList(1).IDNumber')\n",
    "hl7.SetValueAt('MRN',seg+'PatientIdentifierList(1).AssigningAuthority')\n",
    "hl7.SetValueAt('MR',seg+'PatientIdentifierList(1).IdentifierTypeCode')\n",
    "hl7.SetValueAt(msh.Escape('Redfield'), seg+'PatientName(1).FamilyName')\n",
    "hl7.SetValueAt(msh.Escape('Claire') ,seg+'PatientName(1).GivenName')\n",
    "hl7.SetValueAt('19640101',seg+'DateTimeofBirth')\n",
    "hl7.SetValueAt('F',seg+'AdministrativeSex')\n",
    "hl7.SetValueAt(msh.Escape('Umbrella Corporation') ,seg+'PatientAddress.StreetAddress')\n",
    "hl7.SetValueAt(msh.Escape('Umbrella Drive') ,seg+'PatientAddress.OtherDesignation')\n",
    "hl7.SetValueAt(msh.Escape('Raccoon City') ,seg+'PatientAddress.City')\n",
    "hl7.SetValueAt(msh.Escape('MO') ,seg+'PatientAddress.StateorProvince')\n",
    "hl7.SetValueAt(msh.Escape('63117') ,seg+'PatientAddress.ZiporPostalCode')"
   ]
  },
  {
   "cell_type": "markdown",
   "id": "56f7a68d-ad97-4969-9e7c-c8c572a10d56",
   "metadata": {},
   "source": [
    "## Segment de contrôle d'ordre"
   ]
  },
  {
   "cell_type": "code",
   "execution_count": null,
   "id": "6cfebb3a-55dc-483e-ade7-95e16d3813be",
   "metadata": {},
   "outputs": [],
   "source": [
    "seg='PIDgrpgrp(1).ORCgrp(1).ORC:'\n",
    "hl7.SetValueAt('RE',seg+'OrderControl')\n",
    "hl7.SetValueAt('10003681',seg+'PlacerOrderNumber')\n",
    "hl7.SetValueAt('99001725',seg+'FillerOrderNumber')\n",
    "hl7.SetValueAt('AG104',seg+'OrderingProvider')\n",
    "hl7.SetValueAt('L43',seg+'EnterersLocation')"
   ]
  },
  {
   "cell_type": "markdown",
   "id": "9782331b-558d-42ff-a375-a14de6cf2a38",
   "metadata": {},
   "source": [
    "## Demande d'observation"
   ]
  },
  {
   "cell_type": "code",
   "execution_count": null,
   "id": "70a20310-062a-4b96-b787-d7349a3610c6",
   "metadata": {},
   "outputs": [],
   "source": [
    "seg='PIDgrpgrp(1).ORCgrp(1).OBR:'\n",
    "hl7.SetValueAt('1',seg+'SetIDOBR')\n",
    "hl7.SetValueAt('10003681',seg+'PlacerOrderNumber')\n",
    "hl7.SetValueAt('99001725',seg+'FillerOrderNumber')\n",
    "hl7.SetValueAt('20210428100729',seg+'ResultsRptStatusChngDateTime')\n",
    "hl7.SetValueAt('F',seg+'ResultStatus')\n",
    "hl7.SetValueAt('U',seg+'QuantityTiming.Priority')"
   ]
  },
  {
   "cell_type": "markdown",
   "id": "de56ad87-6ba8-4b77-860f-262f5e30e3ad",
   "metadata": {},
   "source": [
    "## Observation OBX/Résultat"
   ]
  },
  {
   "cell_type": "code",
   "execution_count": null,
   "id": "6c1a0c5c-dba9-4c4a-909b-dffb117b00a7",
   "metadata": {},
   "outputs": [],
   "source": [
    "seg='PIDgrpgrp(1).ORCgrp(1).OBXgrp(1).OBX:'\n",
    "hl7.SetValueAt('1',seg+'SetIDOBX')\n",
    "hl7.SetValueAt('TX',seg+'ValueType')\n",
    "hl7.SetValueAt('V8132',seg+'ObservationIdentifier.Identifier')\n",
    "hl7.SetValueAt(msh.Escape('G-Virus') , seg+'ObservationIdentifier.Identifier')\n",
    "hl7.SetValueAt(msh.Escape('17.8 log10') ,seg+'ObservationValue')\n",
    "hl7.SetValueAt(msh.Escape('RNA copies/mL') ,seg+'Units')\n",
    "hl7.SetValueAt('F',seg+'ObservationResultStatus')\n",
    "hl7.SetValueAt('20210428100729',seg+'DateTimeoftheObservation')\n",
    "hl7.SetValueAt('AG001',seg+'ResponsibleObserver.IDNumber')\n",
    "hl7.SetValueAt('Birkin',seg+'ResponsibleObserver.FamilyName')\n",
    "hl7.SetValueAt('William',seg+'ResponsibleObserver.GivenName')\n",
    "hl7.SetValueAt('AG001',seg+'ResponsibleObserver.IDNumber')\n",
    "hl7.SetValueAt('UXL43',seg+'EquipmentInstanceIdentifier')"
   ]
  },
  {
   "cell_type": "markdown",
   "id": "b939c286-a15f-4b0b-8c1b-b4e3ffbd5e7f",
   "metadata": {},
   "source": [
    "## NTE - Remarques et commentaires"
   ]
  },
  {
   "cell_type": "code",
   "execution_count": null,
   "id": "d3e7e44e-063d-490a-aff2-15137e4ac1e0",
   "metadata": {},
   "outputs": [],
   "source": [
    "seg='PIDgrpgrp(1).ORCgrp(1).OBXgrp(1).NTE(1):'\n",
    "hl7.SetValueAt('1',seg+'SetIDNTE')\n",
    "hl7.SetValueAt(msh.Escape('Expected late onset Hyphema. Contain but do not approach.') ,seg+'Comment')"
   ]
  },
  {
   "cell_type": "markdown",
   "id": "75533ed2-6832-4077-8393-7fb2a21b8dc3",
   "metadata": {},
   "source": [
    "## Affichage du message complet sur le terminal"
   ]
  },
  {
   "cell_type": "code",
   "execution_count": null,
   "id": "7f013f11-95cb-414e-a400-4e287ca7efaf",
   "metadata": {},
   "outputs": [],
   "source": [
    "print(hl7.OutputToString())\n",
    "\n",
    "MSH|^~\\&|OutApp|OutFac|InApp|InFac|20230610141201||ORU^R01^ORU_R01|2dfab415-51aa-4c75-a7e7-a63aedfb53cc|2.5.1\n",
    "PID|1||12345^^^MRN^MR||Redfield^Claire||19640101|F|||Umbrella Corporation^Umbrella Drive^Raccoon City^MO^63117\n",
    "ORC|RE|10003681|99001725|||||||||AG104|L43\n",
    "OBR|1|10003681|99001725|||||||||||||||||||20210428100729|||F||^^^^^U\n",
    "OBX|1|TX|G-Virus||17.8 log10|RNA copies/mL|||||F|||20210428100729||AG001^Birkin^William||UXL43\n",
    "NTE|1||Expected late onset Hyphema. Contain but do not approach."
   ]
  }
 ],
 "metadata": {
  "kernelspec": {
   "display_name": "Python 3 (ipykernel)",
   "language": "python",
   "name": "python3"
  },
  "language_info": {
   "codemirror_mode": {
    "name": "ipython",
    "version": 3
   },
   "file_extension": ".py",
   "mimetype": "text/x-python",
   "name": "python",
   "nbconvert_exporter": "python",
   "pygments_lexer": "ipython3",
   "version": "3.11.9"
  }
 },
 "nbformat": 4,
 "nbformat_minor": 5
}
